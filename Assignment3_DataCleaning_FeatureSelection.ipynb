{
  "nbformat": 4,
  "nbformat_minor": 0,
  "metadata": {
    "colab": {
      "name": "Assignment3-DataCleaning_FeatureSelection.ipynb",
      "provenance": [],
      "collapsed_sections": []
    },
    "kernelspec": {
      "name": "python3",
      "display_name": "Python 3"
    },
    "language_info": {
      "name": "python"
    }
  },
  "cells": [
    {
      "cell_type": "markdown",
      "source": [
        "Copyright (c) 2022 Mayur Khandetod\n",
        "\n",
        "Permission is hereby granted, free of charge, to any person obtaining a copy of this software and associated documentation files (the \"Software\"), to deal in the Software without restriction, including without limitation the rights to use, copy, modify, merge, publish, distribute, sublicense, and/or sell copies of the Software, and to permit persons to whom the Software is furnished to do so, subject to the following conditions:\n",
        "\n",
        "The above copyright notice and this permission notice shall be included in all copies or substantial portions of the Software.\n",
        "\n",
        "THE SOFTWARE IS PROVIDED \"AS IS\", WITHOUT WARRANTY OF ANY KIND, EXPRESS OR IMPLIED, INCLUDING BUT NOT LIMITED TO THE WARRANTIES OF MERCHANTABILITY, FITNESS FOR A PARTICULAR PURPOSE AND NONINFRINGEMENT. IN NO EVENT SHALL THE AUTHORS OR COPYRIGHT HOLDERS BE LIABLE FOR ANY CLAIM, DAMAGES OR OTHER LIABILITY, WHETHER IN AN ACTION OF CONTRACT, TORT OR OTHERWISE, ARISING FROM, OUT OF OR IN CONNECTION WITH THE SOFTWARE OR THE USE OR OTHER DEALINGS IN THE SOFTWARE."
      ],
      "metadata": {
        "id": "YtSOBLrG0YtF"
      }
    },
    {
      "cell_type": "markdown",
      "source": [
        "Abstract:\n",
        "\n",
        "Aim: To develop a prediction model that can determine whether a patient has lung cancer based on a set of risk indicators. \n",
        "\n",
        "Description of data set: This dataset contains a List of Risk Factors for Lung Cancer. Based on the input values listed below, this dataset is used to forecast if a patient is likely to get lung cancer. Each row of data in the table contains pertinent information about the patient. \n",
        "\n",
        "Description of fields: • Gender: 1(male), 0(female) • Age: Age of the patient • Smoking: YES=2 , NO=1. • Yellow fingers: YES=2 , NO=1. • Anxiety: YES=2 , NO=1. • Peer_pressure: YES=2 , NO=1. • Chronic Disease: YES=2 , NO=1. • Fatigue: YES=2 , NO=1. • Allergy: YES=2 , NO=1. • Wheezing: YES=2 , NO=1. • Alcohol: YES=2 , NO=1. • Coughing: YES=2 , NO=1. • Shortness of Breath: YES=2 , NO=1. • Swallowing Difficulty: YES=2 , NO=1. • Chest pain: YES=2 , NO=1. • Lung Cancer: YES=2 , NO=1.\n",
        "\n",
        "Imported required libraries and train, test dataset. Import dataset using pandas. Observed dataset and plotted histogram, boxplots. Split the data in training and test sets. Set the features and target. Train model using Logistic Regression, Random Forest and XGBoost. Plotted feature importance for all models. Find best model accuracy. Plot correlation matrix & heat map. Compute p-value. Plotted confusion matrix."
      ],
      "metadata": {
        "id": "ArxqiDAW0kzR"
      }
    },
    {
      "cell_type": "code",
      "source": [
        "#data manupulation\n",
        "import pandas as pd\n",
        "#numerical combination\n",
        "import numpy as np \n",
        "#plotting data and create visualization\n",
        "import matplotlib.pyplot as plt           \n",
        "import seaborn as sns\n",
        "import plotly.express as px\n",
        "\n",
        "from plotly.subplots import make_subplots\n",
        "from datetime import datetime\n",
        "from sklearn.model_selection import train_test_split\n",
        "from sklearn.linear_model import LogisticRegression\n",
        "from sklearn.ensemble import RandomForestClassifier\n",
        "from sklearn.neural_network import MLPClassifier\n",
        "from sklearn.metrics import f1_score, confusion_matrix\n",
        "from sklearn import metrics\n",
        "\n",
        "from statsmodels.stats.outliers_influence import variance_inflation_factor\n",
        "\n",
        "from xgboost import XGBClassifier\n",
        "from xgboost import plot_importance"
      ],
      "metadata": {
        "id": "2KqlzG5T03oE"
      },
      "execution_count": 93,
      "outputs": []
    },
    {
      "cell_type": "code",
      "source": [
        "#reads csv and stores dataset as dataframe\n",
        "lung_df=pd.read_csv(\"https://raw.githubusercontent.com/MayurAvinash/DESM_INFO6105/main/surveylungcancer.csv\")"
      ],
      "metadata": {
        "id": "ld7ce3az2VQK"
      },
      "execution_count": 94,
      "outputs": []
    },
    {
      "cell_type": "markdown",
      "source": [
        "**1. What are the data types? (Only numeric and categorical)**\n",
        "\n",
        "Ans: We may deduce from the dataset that it has 15 independent variables and one target variable. 'AGE', for example, has a numeric data type that represents some sort of quantitative measurement. All other variables have categorical data types, which represent qualitative data with no apparent mathematical meaning. In this dataset, for example, YES=2 and NO=1."
      ],
      "metadata": {
        "id": "4KboztAJ-8cv"
      }
    },
    {
      "cell_type": "code",
      "source": [
        "#displays first 10 rows of dataset\n",
        "lung_df.head(10)"
      ],
      "metadata": {
        "colab": {
          "base_uri": "https://localhost:8080/",
          "height": 363
        },
        "id": "IIJ0PjeR2xjk",
        "outputId": "8f4fe599-6f94-481c-996c-77819dc33d41"
      },
      "execution_count": 95,
      "outputs": [
        {
          "output_type": "execute_result",
          "data": {
            "text/plain": [
              "   GENDER  AGE  SMOKING  YELLOW_FINGERS  ANXIETY  PEER_PRESSURE  \\\n",
              "0       0   69        1               2        2              1   \n",
              "1       0   74        2               1        1              1   \n",
              "2       1   59        1               1        1              2   \n",
              "3       0   63        2               2        2              1   \n",
              "4       1   63        1               2        1              1   \n",
              "5       1   75        1               2        1              1   \n",
              "6       0   52        2               1        1              1   \n",
              "7       1   51        2               2        2              2   \n",
              "8       1   68        2               1        2              1   \n",
              "9       0   53        2               2        2              2   \n",
              "\n",
              "   CHRONIC_DISEASE  FATIGUE  ALLERGY  WHEEZING  ALCOHOL_CONSUMING  COUGHING  \\\n",
              "0                1        2        1         2                  2         2   \n",
              "1                2        2        2         1                  1         1   \n",
              "2                1        2        1         2                  1         2   \n",
              "3                1        1        1         1                  2         1   \n",
              "4                1        1        1         2                  1         2   \n",
              "5                2        2        2         2                  1         2   \n",
              "6                1        2        1         2                  2         2   \n",
              "7                1        2        2         1                  1         1   \n",
              "8                1        2        1         1                  1         1   \n",
              "9                2        1        2         1                  2         1   \n",
              "\n",
              "   SHORTNESS_OF_BREATH  SWALLOWING_DIFFICULTY  CHEST_PAIN  LUNG_CANCER  \n",
              "0                    2                      2           2            1  \n",
              "1                    2                      2           2            1  \n",
              "2                    2                      1           2            2  \n",
              "3                    1                      2           2            2  \n",
              "4                    2                      1           1            2  \n",
              "5                    2                      1           1            1  \n",
              "6                    2                      1           2            1  \n",
              "7                    2                      2           1            1  \n",
              "8                    1                      1           1            2  \n",
              "9                    1                      2           2            1  "
            ],
            "text/html": [
              "\n",
              "  <div id=\"df-b5160571-54d8-4c17-80bb-e8840a124f7c\">\n",
              "    <div class=\"colab-df-container\">\n",
              "      <div>\n",
              "<style scoped>\n",
              "    .dataframe tbody tr th:only-of-type {\n",
              "        vertical-align: middle;\n",
              "    }\n",
              "\n",
              "    .dataframe tbody tr th {\n",
              "        vertical-align: top;\n",
              "    }\n",
              "\n",
              "    .dataframe thead th {\n",
              "        text-align: right;\n",
              "    }\n",
              "</style>\n",
              "<table border=\"1\" class=\"dataframe\">\n",
              "  <thead>\n",
              "    <tr style=\"text-align: right;\">\n",
              "      <th></th>\n",
              "      <th>GENDER</th>\n",
              "      <th>AGE</th>\n",
              "      <th>SMOKING</th>\n",
              "      <th>YELLOW_FINGERS</th>\n",
              "      <th>ANXIETY</th>\n",
              "      <th>PEER_PRESSURE</th>\n",
              "      <th>CHRONIC_DISEASE</th>\n",
              "      <th>FATIGUE</th>\n",
              "      <th>ALLERGY</th>\n",
              "      <th>WHEEZING</th>\n",
              "      <th>ALCOHOL_CONSUMING</th>\n",
              "      <th>COUGHING</th>\n",
              "      <th>SHORTNESS_OF_BREATH</th>\n",
              "      <th>SWALLOWING_DIFFICULTY</th>\n",
              "      <th>CHEST_PAIN</th>\n",
              "      <th>LUNG_CANCER</th>\n",
              "    </tr>\n",
              "  </thead>\n",
              "  <tbody>\n",
              "    <tr>\n",
              "      <th>0</th>\n",
              "      <td>0</td>\n",
              "      <td>69</td>\n",
              "      <td>1</td>\n",
              "      <td>2</td>\n",
              "      <td>2</td>\n",
              "      <td>1</td>\n",
              "      <td>1</td>\n",
              "      <td>2</td>\n",
              "      <td>1</td>\n",
              "      <td>2</td>\n",
              "      <td>2</td>\n",
              "      <td>2</td>\n",
              "      <td>2</td>\n",
              "      <td>2</td>\n",
              "      <td>2</td>\n",
              "      <td>1</td>\n",
              "    </tr>\n",
              "    <tr>\n",
              "      <th>1</th>\n",
              "      <td>0</td>\n",
              "      <td>74</td>\n",
              "      <td>2</td>\n",
              "      <td>1</td>\n",
              "      <td>1</td>\n",
              "      <td>1</td>\n",
              "      <td>2</td>\n",
              "      <td>2</td>\n",
              "      <td>2</td>\n",
              "      <td>1</td>\n",
              "      <td>1</td>\n",
              "      <td>1</td>\n",
              "      <td>2</td>\n",
              "      <td>2</td>\n",
              "      <td>2</td>\n",
              "      <td>1</td>\n",
              "    </tr>\n",
              "    <tr>\n",
              "      <th>2</th>\n",
              "      <td>1</td>\n",
              "      <td>59</td>\n",
              "      <td>1</td>\n",
              "      <td>1</td>\n",
              "      <td>1</td>\n",
              "      <td>2</td>\n",
              "      <td>1</td>\n",
              "      <td>2</td>\n",
              "      <td>1</td>\n",
              "      <td>2</td>\n",
              "      <td>1</td>\n",
              "      <td>2</td>\n",
              "      <td>2</td>\n",
              "      <td>1</td>\n",
              "      <td>2</td>\n",
              "      <td>2</td>\n",
              "    </tr>\n",
              "    <tr>\n",
              "      <th>3</th>\n",
              "      <td>0</td>\n",
              "      <td>63</td>\n",
              "      <td>2</td>\n",
              "      <td>2</td>\n",
              "      <td>2</td>\n",
              "      <td>1</td>\n",
              "      <td>1</td>\n",
              "      <td>1</td>\n",
              "      <td>1</td>\n",
              "      <td>1</td>\n",
              "      <td>2</td>\n",
              "      <td>1</td>\n",
              "      <td>1</td>\n",
              "      <td>2</td>\n",
              "      <td>2</td>\n",
              "      <td>2</td>\n",
              "    </tr>\n",
              "    <tr>\n",
              "      <th>4</th>\n",
              "      <td>1</td>\n",
              "      <td>63</td>\n",
              "      <td>1</td>\n",
              "      <td>2</td>\n",
              "      <td>1</td>\n",
              "      <td>1</td>\n",
              "      <td>1</td>\n",
              "      <td>1</td>\n",
              "      <td>1</td>\n",
              "      <td>2</td>\n",
              "      <td>1</td>\n",
              "      <td>2</td>\n",
              "      <td>2</td>\n",
              "      <td>1</td>\n",
              "      <td>1</td>\n",
              "      <td>2</td>\n",
              "    </tr>\n",
              "    <tr>\n",
              "      <th>5</th>\n",
              "      <td>1</td>\n",
              "      <td>75</td>\n",
              "      <td>1</td>\n",
              "      <td>2</td>\n",
              "      <td>1</td>\n",
              "      <td>1</td>\n",
              "      <td>2</td>\n",
              "      <td>2</td>\n",
              "      <td>2</td>\n",
              "      <td>2</td>\n",
              "      <td>1</td>\n",
              "      <td>2</td>\n",
              "      <td>2</td>\n",
              "      <td>1</td>\n",
              "      <td>1</td>\n",
              "      <td>1</td>\n",
              "    </tr>\n",
              "    <tr>\n",
              "      <th>6</th>\n",
              "      <td>0</td>\n",
              "      <td>52</td>\n",
              "      <td>2</td>\n",
              "      <td>1</td>\n",
              "      <td>1</td>\n",
              "      <td>1</td>\n",
              "      <td>1</td>\n",
              "      <td>2</td>\n",
              "      <td>1</td>\n",
              "      <td>2</td>\n",
              "      <td>2</td>\n",
              "      <td>2</td>\n",
              "      <td>2</td>\n",
              "      <td>1</td>\n",
              "      <td>2</td>\n",
              "      <td>1</td>\n",
              "    </tr>\n",
              "    <tr>\n",
              "      <th>7</th>\n",
              "      <td>1</td>\n",
              "      <td>51</td>\n",
              "      <td>2</td>\n",
              "      <td>2</td>\n",
              "      <td>2</td>\n",
              "      <td>2</td>\n",
              "      <td>1</td>\n",
              "      <td>2</td>\n",
              "      <td>2</td>\n",
              "      <td>1</td>\n",
              "      <td>1</td>\n",
              "      <td>1</td>\n",
              "      <td>2</td>\n",
              "      <td>2</td>\n",
              "      <td>1</td>\n",
              "      <td>1</td>\n",
              "    </tr>\n",
              "    <tr>\n",
              "      <th>8</th>\n",
              "      <td>1</td>\n",
              "      <td>68</td>\n",
              "      <td>2</td>\n",
              "      <td>1</td>\n",
              "      <td>2</td>\n",
              "      <td>1</td>\n",
              "      <td>1</td>\n",
              "      <td>2</td>\n",
              "      <td>1</td>\n",
              "      <td>1</td>\n",
              "      <td>1</td>\n",
              "      <td>1</td>\n",
              "      <td>1</td>\n",
              "      <td>1</td>\n",
              "      <td>1</td>\n",
              "      <td>2</td>\n",
              "    </tr>\n",
              "    <tr>\n",
              "      <th>9</th>\n",
              "      <td>0</td>\n",
              "      <td>53</td>\n",
              "      <td>2</td>\n",
              "      <td>2</td>\n",
              "      <td>2</td>\n",
              "      <td>2</td>\n",
              "      <td>2</td>\n",
              "      <td>1</td>\n",
              "      <td>2</td>\n",
              "      <td>1</td>\n",
              "      <td>2</td>\n",
              "      <td>1</td>\n",
              "      <td>1</td>\n",
              "      <td>2</td>\n",
              "      <td>2</td>\n",
              "      <td>1</td>\n",
              "    </tr>\n",
              "  </tbody>\n",
              "</table>\n",
              "</div>\n",
              "      <button class=\"colab-df-convert\" onclick=\"convertToInteractive('df-b5160571-54d8-4c17-80bb-e8840a124f7c')\"\n",
              "              title=\"Convert this dataframe to an interactive table.\"\n",
              "              style=\"display:none;\">\n",
              "        \n",
              "  <svg xmlns=\"http://www.w3.org/2000/svg\" height=\"24px\"viewBox=\"0 0 24 24\"\n",
              "       width=\"24px\">\n",
              "    <path d=\"M0 0h24v24H0V0z\" fill=\"none\"/>\n",
              "    <path d=\"M18.56 5.44l.94 2.06.94-2.06 2.06-.94-2.06-.94-.94-2.06-.94 2.06-2.06.94zm-11 1L8.5 8.5l.94-2.06 2.06-.94-2.06-.94L8.5 2.5l-.94 2.06-2.06.94zm10 10l.94 2.06.94-2.06 2.06-.94-2.06-.94-.94-2.06-.94 2.06-2.06.94z\"/><path d=\"M17.41 7.96l-1.37-1.37c-.4-.4-.92-.59-1.43-.59-.52 0-1.04.2-1.43.59L10.3 9.45l-7.72 7.72c-.78.78-.78 2.05 0 2.83L4 21.41c.39.39.9.59 1.41.59.51 0 1.02-.2 1.41-.59l7.78-7.78 2.81-2.81c.8-.78.8-2.07 0-2.86zM5.41 20L4 18.59l7.72-7.72 1.47 1.35L5.41 20z\"/>\n",
              "  </svg>\n",
              "      </button>\n",
              "      \n",
              "  <style>\n",
              "    .colab-df-container {\n",
              "      display:flex;\n",
              "      flex-wrap:wrap;\n",
              "      gap: 12px;\n",
              "    }\n",
              "\n",
              "    .colab-df-convert {\n",
              "      background-color: #E8F0FE;\n",
              "      border: none;\n",
              "      border-radius: 50%;\n",
              "      cursor: pointer;\n",
              "      display: none;\n",
              "      fill: #1967D2;\n",
              "      height: 32px;\n",
              "      padding: 0 0 0 0;\n",
              "      width: 32px;\n",
              "    }\n",
              "\n",
              "    .colab-df-convert:hover {\n",
              "      background-color: #E2EBFA;\n",
              "      box-shadow: 0px 1px 2px rgba(60, 64, 67, 0.3), 0px 1px 3px 1px rgba(60, 64, 67, 0.15);\n",
              "      fill: #174EA6;\n",
              "    }\n",
              "\n",
              "    [theme=dark] .colab-df-convert {\n",
              "      background-color: #3B4455;\n",
              "      fill: #D2E3FC;\n",
              "    }\n",
              "\n",
              "    [theme=dark] .colab-df-convert:hover {\n",
              "      background-color: #434B5C;\n",
              "      box-shadow: 0px 1px 3px 1px rgba(0, 0, 0, 0.15);\n",
              "      filter: drop-shadow(0px 1px 2px rgba(0, 0, 0, 0.3));\n",
              "      fill: #FFFFFF;\n",
              "    }\n",
              "  </style>\n",
              "\n",
              "      <script>\n",
              "        const buttonEl =\n",
              "          document.querySelector('#df-b5160571-54d8-4c17-80bb-e8840a124f7c button.colab-df-convert');\n",
              "        buttonEl.style.display =\n",
              "          google.colab.kernel.accessAllowed ? 'block' : 'none';\n",
              "\n",
              "        async function convertToInteractive(key) {\n",
              "          const element = document.querySelector('#df-b5160571-54d8-4c17-80bb-e8840a124f7c');\n",
              "          const dataTable =\n",
              "            await google.colab.kernel.invokeFunction('convertToInteractive',\n",
              "                                                     [key], {});\n",
              "          if (!dataTable) return;\n",
              "\n",
              "          const docLinkHtml = 'Like what you see? Visit the ' +\n",
              "            '<a target=\"_blank\" href=https://colab.research.google.com/notebooks/data_table.ipynb>data table notebook</a>'\n",
              "            + ' to learn more about interactive tables.';\n",
              "          element.innerHTML = '';\n",
              "          dataTable['output_type'] = 'display_data';\n",
              "          await google.colab.output.renderOutput(dataTable, element);\n",
              "          const docLink = document.createElement('div');\n",
              "          docLink.innerHTML = docLinkHtml;\n",
              "          element.appendChild(docLink);\n",
              "        }\n",
              "      </script>\n",
              "    </div>\n",
              "  </div>\n",
              "  "
            ]
          },
          "metadata": {},
          "execution_count": 95
        }
      ]
    },
    {
      "cell_type": "code",
      "source": [
        "#displays information about the dataset\n",
        "lung_df.info()"
      ],
      "metadata": {
        "colab": {
          "base_uri": "https://localhost:8080/"
        },
        "id": "nZZ_AEOF20y0",
        "outputId": "8ad94660-b39d-4a92-d18d-6673e50bf8f0"
      },
      "execution_count": 96,
      "outputs": [
        {
          "output_type": "stream",
          "name": "stdout",
          "text": [
            "<class 'pandas.core.frame.DataFrame'>\n",
            "RangeIndex: 55394 entries, 0 to 55393\n",
            "Data columns (total 16 columns):\n",
            " #   Column                 Non-Null Count  Dtype\n",
            "---  ------                 --------------  -----\n",
            " 0   GENDER                 55394 non-null  int64\n",
            " 1   AGE                    55394 non-null  int64\n",
            " 2   SMOKING                55394 non-null  int64\n",
            " 3   YELLOW_FINGERS         55394 non-null  int64\n",
            " 4   ANXIETY                55394 non-null  int64\n",
            " 5   PEER_PRESSURE          55394 non-null  int64\n",
            " 6   CHRONIC_DISEASE        55394 non-null  int64\n",
            " 7   FATIGUE                55394 non-null  int64\n",
            " 8   ALLERGY                55394 non-null  int64\n",
            " 9   WHEEZING               55394 non-null  int64\n",
            " 10  ALCOHOL_CONSUMING      55394 non-null  int64\n",
            " 11  COUGHING               55394 non-null  int64\n",
            " 12  SHORTNESS_OF_BREATH    55394 non-null  int64\n",
            " 13  SWALLOWING_DIFFICULTY  55394 non-null  int64\n",
            " 14  CHEST_PAIN             55394 non-null  int64\n",
            " 15  LUNG_CANCER            55394 non-null  int64\n",
            "dtypes: int64(16)\n",
            "memory usage: 6.8 MB\n"
          ]
        }
      ]
    },
    {
      "cell_type": "code",
      "source": [
        "#displays information about numerical columns only\n",
        "lung_df.describe()"
      ],
      "metadata": {
        "colab": {
          "base_uri": "https://localhost:8080/",
          "height": 364
        },
        "id": "vwDnaw-y234m",
        "outputId": "73d98c1c-488e-4a43-9045-58da7fec9181"
      },
      "execution_count": 97,
      "outputs": [
        {
          "output_type": "execute_result",
          "data": {
            "text/plain": [
              "             GENDER           AGE       SMOKING  YELLOW_FINGERS       ANXIETY  \\\n",
              "count  55394.000000  55394.000000  55394.000000    55394.000000  55394.000000   \n",
              "mean       0.502004     44.137614      1.499531        1.496299      1.500614   \n",
              "std        0.500000     15.309217      0.500004        0.499991      0.500004   \n",
              "min        0.000000     18.000000      1.000000        1.000000      1.000000   \n",
              "25%        0.000000     31.000000      1.000000        1.000000      1.000000   \n",
              "50%        1.000000     44.000000      1.000000        1.000000      2.000000   \n",
              "75%        1.000000     57.000000      2.000000        2.000000      2.000000   \n",
              "max        1.000000     87.000000      2.000000        2.000000      2.000000   \n",
              "\n",
              "       PEER_PRESSURE  CHRONIC_DISEASE       FATIGUE       ALLERGY  \\\n",
              "count   55394.000000     55394.000000  55394.000000  55394.000000   \n",
              "mean        1.496769         1.501047      1.497924      1.501914   \n",
              "std         0.499994         0.500003      0.500000      0.500001   \n",
              "min         1.000000         1.000000      1.000000      1.000000   \n",
              "25%         1.000000         1.000000      1.000000      1.000000   \n",
              "50%         1.000000         2.000000      1.000000      2.000000   \n",
              "75%         2.000000         2.000000      2.000000      2.000000   \n",
              "max         2.000000         2.000000      2.000000      2.000000   \n",
              "\n",
              "           WHEEZING  ALCOHOL_CONSUMING      COUGHING  SHORTNESS_OF_BREATH  \\\n",
              "count  55394.000000       55394.000000  55394.000000         55394.000000   \n",
              "mean       1.501065           1.498447      1.505055             1.500758   \n",
              "std        0.500003           0.500002      0.499979             0.500004   \n",
              "min        1.000000           1.000000      1.000000             1.000000   \n",
              "25%        1.000000           1.000000      1.000000             1.000000   \n",
              "50%        2.000000           1.000000      2.000000             2.000000   \n",
              "75%        2.000000           2.000000      2.000000             2.000000   \n",
              "max        2.000000           2.000000      2.000000             2.000000   \n",
              "\n",
              "       SWALLOWING_DIFFICULTY    CHEST_PAIN   LUNG_CANCER  \n",
              "count           55394.000000  55394.000000  55394.000000  \n",
              "mean                1.499964      1.501643      1.496101  \n",
              "std                 0.500005      0.500002      0.499989  \n",
              "min                 1.000000      1.000000      1.000000  \n",
              "25%                 1.000000      1.000000      1.000000  \n",
              "50%                 1.000000      2.000000      1.000000  \n",
              "75%                 2.000000      2.000000      2.000000  \n",
              "max                 2.000000      2.000000      2.000000  "
            ],
            "text/html": [
              "\n",
              "  <div id=\"df-46a5d100-5546-4de5-bd54-cffe82de888f\">\n",
              "    <div class=\"colab-df-container\">\n",
              "      <div>\n",
              "<style scoped>\n",
              "    .dataframe tbody tr th:only-of-type {\n",
              "        vertical-align: middle;\n",
              "    }\n",
              "\n",
              "    .dataframe tbody tr th {\n",
              "        vertical-align: top;\n",
              "    }\n",
              "\n",
              "    .dataframe thead th {\n",
              "        text-align: right;\n",
              "    }\n",
              "</style>\n",
              "<table border=\"1\" class=\"dataframe\">\n",
              "  <thead>\n",
              "    <tr style=\"text-align: right;\">\n",
              "      <th></th>\n",
              "      <th>GENDER</th>\n",
              "      <th>AGE</th>\n",
              "      <th>SMOKING</th>\n",
              "      <th>YELLOW_FINGERS</th>\n",
              "      <th>ANXIETY</th>\n",
              "      <th>PEER_PRESSURE</th>\n",
              "      <th>CHRONIC_DISEASE</th>\n",
              "      <th>FATIGUE</th>\n",
              "      <th>ALLERGY</th>\n",
              "      <th>WHEEZING</th>\n",
              "      <th>ALCOHOL_CONSUMING</th>\n",
              "      <th>COUGHING</th>\n",
              "      <th>SHORTNESS_OF_BREATH</th>\n",
              "      <th>SWALLOWING_DIFFICULTY</th>\n",
              "      <th>CHEST_PAIN</th>\n",
              "      <th>LUNG_CANCER</th>\n",
              "    </tr>\n",
              "  </thead>\n",
              "  <tbody>\n",
              "    <tr>\n",
              "      <th>count</th>\n",
              "      <td>55394.000000</td>\n",
              "      <td>55394.000000</td>\n",
              "      <td>55394.000000</td>\n",
              "      <td>55394.000000</td>\n",
              "      <td>55394.000000</td>\n",
              "      <td>55394.000000</td>\n",
              "      <td>55394.000000</td>\n",
              "      <td>55394.000000</td>\n",
              "      <td>55394.000000</td>\n",
              "      <td>55394.000000</td>\n",
              "      <td>55394.000000</td>\n",
              "      <td>55394.000000</td>\n",
              "      <td>55394.000000</td>\n",
              "      <td>55394.000000</td>\n",
              "      <td>55394.000000</td>\n",
              "      <td>55394.000000</td>\n",
              "    </tr>\n",
              "    <tr>\n",
              "      <th>mean</th>\n",
              "      <td>0.502004</td>\n",
              "      <td>44.137614</td>\n",
              "      <td>1.499531</td>\n",
              "      <td>1.496299</td>\n",
              "      <td>1.500614</td>\n",
              "      <td>1.496769</td>\n",
              "      <td>1.501047</td>\n",
              "      <td>1.497924</td>\n",
              "      <td>1.501914</td>\n",
              "      <td>1.501065</td>\n",
              "      <td>1.498447</td>\n",
              "      <td>1.505055</td>\n",
              "      <td>1.500758</td>\n",
              "      <td>1.499964</td>\n",
              "      <td>1.501643</td>\n",
              "      <td>1.496101</td>\n",
              "    </tr>\n",
              "    <tr>\n",
              "      <th>std</th>\n",
              "      <td>0.500000</td>\n",
              "      <td>15.309217</td>\n",
              "      <td>0.500004</td>\n",
              "      <td>0.499991</td>\n",
              "      <td>0.500004</td>\n",
              "      <td>0.499994</td>\n",
              "      <td>0.500003</td>\n",
              "      <td>0.500000</td>\n",
              "      <td>0.500001</td>\n",
              "      <td>0.500003</td>\n",
              "      <td>0.500002</td>\n",
              "      <td>0.499979</td>\n",
              "      <td>0.500004</td>\n",
              "      <td>0.500005</td>\n",
              "      <td>0.500002</td>\n",
              "      <td>0.499989</td>\n",
              "    </tr>\n",
              "    <tr>\n",
              "      <th>min</th>\n",
              "      <td>0.000000</td>\n",
              "      <td>18.000000</td>\n",
              "      <td>1.000000</td>\n",
              "      <td>1.000000</td>\n",
              "      <td>1.000000</td>\n",
              "      <td>1.000000</td>\n",
              "      <td>1.000000</td>\n",
              "      <td>1.000000</td>\n",
              "      <td>1.000000</td>\n",
              "      <td>1.000000</td>\n",
              "      <td>1.000000</td>\n",
              "      <td>1.000000</td>\n",
              "      <td>1.000000</td>\n",
              "      <td>1.000000</td>\n",
              "      <td>1.000000</td>\n",
              "      <td>1.000000</td>\n",
              "    </tr>\n",
              "    <tr>\n",
              "      <th>25%</th>\n",
              "      <td>0.000000</td>\n",
              "      <td>31.000000</td>\n",
              "      <td>1.000000</td>\n",
              "      <td>1.000000</td>\n",
              "      <td>1.000000</td>\n",
              "      <td>1.000000</td>\n",
              "      <td>1.000000</td>\n",
              "      <td>1.000000</td>\n",
              "      <td>1.000000</td>\n",
              "      <td>1.000000</td>\n",
              "      <td>1.000000</td>\n",
              "      <td>1.000000</td>\n",
              "      <td>1.000000</td>\n",
              "      <td>1.000000</td>\n",
              "      <td>1.000000</td>\n",
              "      <td>1.000000</td>\n",
              "    </tr>\n",
              "    <tr>\n",
              "      <th>50%</th>\n",
              "      <td>1.000000</td>\n",
              "      <td>44.000000</td>\n",
              "      <td>1.000000</td>\n",
              "      <td>1.000000</td>\n",
              "      <td>2.000000</td>\n",
              "      <td>1.000000</td>\n",
              "      <td>2.000000</td>\n",
              "      <td>1.000000</td>\n",
              "      <td>2.000000</td>\n",
              "      <td>2.000000</td>\n",
              "      <td>1.000000</td>\n",
              "      <td>2.000000</td>\n",
              "      <td>2.000000</td>\n",
              "      <td>1.000000</td>\n",
              "      <td>2.000000</td>\n",
              "      <td>1.000000</td>\n",
              "    </tr>\n",
              "    <tr>\n",
              "      <th>75%</th>\n",
              "      <td>1.000000</td>\n",
              "      <td>57.000000</td>\n",
              "      <td>2.000000</td>\n",
              "      <td>2.000000</td>\n",
              "      <td>2.000000</td>\n",
              "      <td>2.000000</td>\n",
              "      <td>2.000000</td>\n",
              "      <td>2.000000</td>\n",
              "      <td>2.000000</td>\n",
              "      <td>2.000000</td>\n",
              "      <td>2.000000</td>\n",
              "      <td>2.000000</td>\n",
              "      <td>2.000000</td>\n",
              "      <td>2.000000</td>\n",
              "      <td>2.000000</td>\n",
              "      <td>2.000000</td>\n",
              "    </tr>\n",
              "    <tr>\n",
              "      <th>max</th>\n",
              "      <td>1.000000</td>\n",
              "      <td>87.000000</td>\n",
              "      <td>2.000000</td>\n",
              "      <td>2.000000</td>\n",
              "      <td>2.000000</td>\n",
              "      <td>2.000000</td>\n",
              "      <td>2.000000</td>\n",
              "      <td>2.000000</td>\n",
              "      <td>2.000000</td>\n",
              "      <td>2.000000</td>\n",
              "      <td>2.000000</td>\n",
              "      <td>2.000000</td>\n",
              "      <td>2.000000</td>\n",
              "      <td>2.000000</td>\n",
              "      <td>2.000000</td>\n",
              "      <td>2.000000</td>\n",
              "    </tr>\n",
              "  </tbody>\n",
              "</table>\n",
              "</div>\n",
              "      <button class=\"colab-df-convert\" onclick=\"convertToInteractive('df-46a5d100-5546-4de5-bd54-cffe82de888f')\"\n",
              "              title=\"Convert this dataframe to an interactive table.\"\n",
              "              style=\"display:none;\">\n",
              "        \n",
              "  <svg xmlns=\"http://www.w3.org/2000/svg\" height=\"24px\"viewBox=\"0 0 24 24\"\n",
              "       width=\"24px\">\n",
              "    <path d=\"M0 0h24v24H0V0z\" fill=\"none\"/>\n",
              "    <path d=\"M18.56 5.44l.94 2.06.94-2.06 2.06-.94-2.06-.94-.94-2.06-.94 2.06-2.06.94zm-11 1L8.5 8.5l.94-2.06 2.06-.94-2.06-.94L8.5 2.5l-.94 2.06-2.06.94zm10 10l.94 2.06.94-2.06 2.06-.94-2.06-.94-.94-2.06-.94 2.06-2.06.94z\"/><path d=\"M17.41 7.96l-1.37-1.37c-.4-.4-.92-.59-1.43-.59-.52 0-1.04.2-1.43.59L10.3 9.45l-7.72 7.72c-.78.78-.78 2.05 0 2.83L4 21.41c.39.39.9.59 1.41.59.51 0 1.02-.2 1.41-.59l7.78-7.78 2.81-2.81c.8-.78.8-2.07 0-2.86zM5.41 20L4 18.59l7.72-7.72 1.47 1.35L5.41 20z\"/>\n",
              "  </svg>\n",
              "      </button>\n",
              "      \n",
              "  <style>\n",
              "    .colab-df-container {\n",
              "      display:flex;\n",
              "      flex-wrap:wrap;\n",
              "      gap: 12px;\n",
              "    }\n",
              "\n",
              "    .colab-df-convert {\n",
              "      background-color: #E8F0FE;\n",
              "      border: none;\n",
              "      border-radius: 50%;\n",
              "      cursor: pointer;\n",
              "      display: none;\n",
              "      fill: #1967D2;\n",
              "      height: 32px;\n",
              "      padding: 0 0 0 0;\n",
              "      width: 32px;\n",
              "    }\n",
              "\n",
              "    .colab-df-convert:hover {\n",
              "      background-color: #E2EBFA;\n",
              "      box-shadow: 0px 1px 2px rgba(60, 64, 67, 0.3), 0px 1px 3px 1px rgba(60, 64, 67, 0.15);\n",
              "      fill: #174EA6;\n",
              "    }\n",
              "\n",
              "    [theme=dark] .colab-df-convert {\n",
              "      background-color: #3B4455;\n",
              "      fill: #D2E3FC;\n",
              "    }\n",
              "\n",
              "    [theme=dark] .colab-df-convert:hover {\n",
              "      background-color: #434B5C;\n",
              "      box-shadow: 0px 1px 3px 1px rgba(0, 0, 0, 0.15);\n",
              "      filter: drop-shadow(0px 1px 2px rgba(0, 0, 0, 0.3));\n",
              "      fill: #FFFFFF;\n",
              "    }\n",
              "  </style>\n",
              "\n",
              "      <script>\n",
              "        const buttonEl =\n",
              "          document.querySelector('#df-46a5d100-5546-4de5-bd54-cffe82de888f button.colab-df-convert');\n",
              "        buttonEl.style.display =\n",
              "          google.colab.kernel.accessAllowed ? 'block' : 'none';\n",
              "\n",
              "        async function convertToInteractive(key) {\n",
              "          const element = document.querySelector('#df-46a5d100-5546-4de5-bd54-cffe82de888f');\n",
              "          const dataTable =\n",
              "            await google.colab.kernel.invokeFunction('convertToInteractive',\n",
              "                                                     [key], {});\n",
              "          if (!dataTable) return;\n",
              "\n",
              "          const docLinkHtml = 'Like what you see? Visit the ' +\n",
              "            '<a target=\"_blank\" href=https://colab.research.google.com/notebooks/data_table.ipynb>data table notebook</a>'\n",
              "            + ' to learn more about interactive tables.';\n",
              "          element.innerHTML = '';\n",
              "          dataTable['output_type'] = 'display_data';\n",
              "          await google.colab.output.renderOutput(dataTable, element);\n",
              "          const docLink = document.createElement('div');\n",
              "          docLink.innerHTML = docLinkHtml;\n",
              "          element.appendChild(docLink);\n",
              "        }\n",
              "      </script>\n",
              "    </div>\n",
              "  </div>\n",
              "  "
            ]
          },
          "metadata": {},
          "execution_count": 97
        }
      ]
    },
    {
      "cell_type": "markdown",
      "source": [
        "**5. Which independent variables have missing data? How much?** \n",
        "\n",
        "Ans: As we can see below no independent variables have missing data. The isnull() method confirms that both the missing value and \"NA\" were identified as missing values."
      ],
      "metadata": {
        "id": "uY3JYbHYk7cd"
      }
    },
    {
      "cell_type": "code",
      "source": [
        "lung_df.isnull().sum()"
      ],
      "metadata": {
        "colab": {
          "base_uri": "https://localhost:8080/"
        },
        "id": "nHyYMAas28R7",
        "outputId": "2753f7a6-56ca-4039-8432-2d16c0491eca"
      },
      "execution_count": 98,
      "outputs": [
        {
          "output_type": "execute_result",
          "data": {
            "text/plain": [
              "GENDER                   0\n",
              "AGE                      0\n",
              "SMOKING                  0\n",
              "YELLOW_FINGERS           0\n",
              "ANXIETY                  0\n",
              "PEER_PRESSURE            0\n",
              "CHRONIC_DISEASE          0\n",
              "FATIGUE                  0\n",
              "ALLERGY                  0\n",
              "WHEEZING                 0\n",
              "ALCOHOL_CONSUMING        0\n",
              "COUGHING                 0\n",
              "SHORTNESS_OF_BREATH      0\n",
              "SWALLOWING_DIFFICULTY    0\n",
              "CHEST_PAIN               0\n",
              "LUNG_CANCER              0\n",
              "dtype: int64"
            ]
          },
          "metadata": {},
          "execution_count": 98
        }
      ]
    },
    {
      "cell_type": "markdown",
      "source": [
        "**3. What are the likely distributions of the numeric variables?**\n",
        "\n",
        "Ans: The likely distributions of numeric variable i.e. 'AGE' is displayed below with the help of histogram and boxplot. Both the plots shows that 'AGE' has uniform distribution. \n",
        "\n",
        "**10. What are the distributions of the predictor variables?**\n",
        "\n",
        "Ans: All predictor variables, excluding 'AGE,' have Bernoulli distribution, as they have discrete values such as 0 ,1 or 1,2 whereas 'AGE' has uniform distribution, as shown in the histogram and boxplots below."
      ],
      "metadata": {
        "id": "oBhNgb55csQE"
      }
    },
    {
      "cell_type": "code",
      "source": [
        "lung_df.hist(figsize=(16,12))"
      ],
      "metadata": {
        "colab": {
          "base_uri": "https://localhost:8080/",
          "height": 1000
        },
        "id": "xVVjvZkN2_Oj",
        "outputId": "d7d72ad3-ce97-49ae-cf0e-3052b3b71ed5"
      },
      "execution_count": 99,
      "outputs": [
        {
          "output_type": "execute_result",
          "data": {
            "text/plain": [
              "array([[<matplotlib.axes._subplots.AxesSubplot object at 0x7f4297007390>,\n",
              "        <matplotlib.axes._subplots.AxesSubplot object at 0x7f4296fbe750>,\n",
              "        <matplotlib.axes._subplots.AxesSubplot object at 0x7f4296f6fc10>,\n",
              "        <matplotlib.axes._subplots.AxesSubplot object at 0x7f4296f32150>],\n",
              "       [<matplotlib.axes._subplots.AxesSubplot object at 0x7f4296ee8650>,\n",
              "        <matplotlib.axes._subplots.AxesSubplot object at 0x7f4296f1fb50>,\n",
              "        <matplotlib.axes._subplots.AxesSubplot object at 0x7f4296ecbb90>,\n",
              "        <matplotlib.axes._subplots.AxesSubplot object at 0x7f4296e96550>],\n",
              "       [<matplotlib.axes._subplots.AxesSubplot object at 0x7f4296e96590>,\n",
              "        <matplotlib.axes._subplots.AxesSubplot object at 0x7f4296e50b90>,\n",
              "        <matplotlib.axes._subplots.AxesSubplot object at 0x7f429c1f4690>,\n",
              "        <matplotlib.axes._subplots.AxesSubplot object at 0x7f4297286250>],\n",
              "       [<matplotlib.axes._subplots.AxesSubplot object at 0x7f429735d810>,\n",
              "        <matplotlib.axes._subplots.AxesSubplot object at 0x7f42973560d0>,\n",
              "        <matplotlib.axes._subplots.AxesSubplot object at 0x7f4297439e10>,\n",
              "        <matplotlib.axes._subplots.AxesSubplot object at 0x7f4297676cd0>]],\n",
              "      dtype=object)"
            ]
          },
          "metadata": {},
          "execution_count": 99
        },
        {
          "output_type": "display_data",
          "data": {
            "text/plain": [
              "<Figure size 1152x864 with 16 Axes>"
            ],
            "image/png": "[encoded data removed]"
          },
          "metadata": {
            "needs_background": "light"
          }
        }
      ]
    },
    {
      "cell_type": "code",
      "source": [
        "lung_df.boxplot(figsize=(16,12))"
      ],
      "metadata": {
        "colab": {
          "base_uri": "https://localhost:8080/",
          "height": 718
        },
        "id": "vgfoDtad3Cyx",
        "outputId": "5adb8a63-163c-4628-f1be-d9f4b8266440"
      },
      "execution_count": 100,
      "outputs": [
        {
          "output_type": "execute_result",
          "data": {
            "text/plain": [
              "<matplotlib.axes._subplots.AxesSubplot at 0x7f429758de50>"
            ]
          },
          "metadata": {},
          "execution_count": 100
        },
        {
          "output_type": "display_data",
          "data": {
            "text/plain": [
              "<Figure size 1152x864 with 1 Axes>"
            ],
            "image/png": "[encoded data removed]"
          },
          "metadata": {
            "needs_background": "light"
          }
        }
      ]
    },
    {
      "cell_type": "markdown",
      "source": [
        "**2. Are there missing values?**\n",
        "\n",
        "Ans: We can see that there are no missing or null values in the dataset by looking at the data below for all columns. This is because the isnull() method confirms that both the missing value and \"NA\" were identified as missing values."
      ],
      "metadata": {
        "id": "EKpO9cXwc-ph"
      }
    },
    {
      "cell_type": "code",
      "source": [
        "lung_df['GENDER'].isnull()"
      ],
      "metadata": {
        "colab": {
          "base_uri": "https://localhost:8080/"
        },
        "id": "tdaUxJXx3F4F",
        "outputId": "1f75cba5-92e8-4c59-9f9c-6c771909528c"
      },
      "execution_count": 101,
      "outputs": [
        {
          "output_type": "execute_result",
          "data": {
            "text/plain": [
              "0        False\n",
              "1        False\n",
              "2        False\n",
              "3        False\n",
              "4        False\n",
              "         ...  \n",
              "55389    False\n",
              "55390    False\n",
              "55391    False\n",
              "55392    False\n",
              "55393    False\n",
              "Name: GENDER, Length: 55394, dtype: bool"
            ]
          },
          "metadata": {},
          "execution_count": 101
        }
      ]
    },
    {
      "cell_type": "code",
      "source": [
        "lung_df['AGE'].isnull()"
      ],
      "metadata": {
        "colab": {
          "base_uri": "https://localhost:8080/"
        },
        "id": "WA7cy_0A3Iv7",
        "outputId": "ff8db349-2136-4d27-86cb-f93b053873b3"
      },
      "execution_count": 102,
      "outputs": [
        {
          "output_type": "execute_result",
          "data": {
            "text/plain": [
              "0        False\n",
              "1        False\n",
              "2        False\n",
              "3        False\n",
              "4        False\n",
              "         ...  \n",
              "55389    False\n",
              "55390    False\n",
              "55391    False\n",
              "55392    False\n",
              "55393    False\n",
              "Name: AGE, Length: 55394, dtype: bool"
            ]
          },
          "metadata": {},
          "execution_count": 102
        }
      ]
    },
    {
      "cell_type": "code",
      "source": [
        "lung_df['SMOKING'].isnull()"
      ],
      "metadata": {
        "colab": {
          "base_uri": "https://localhost:8080/"
        },
        "id": "hFZVCNcN3Loo",
        "outputId": "4879c6f0-88fc-4917-d44d-e9345dfcf145"
      },
      "execution_count": 103,
      "outputs": [
        {
          "output_type": "execute_result",
          "data": {
            "text/plain": [
              "0        False\n",
              "1        False\n",
              "2        False\n",
              "3        False\n",
              "4        False\n",
              "         ...  \n",
              "55389    False\n",
              "55390    False\n",
              "55391    False\n",
              "55392    False\n",
              "55393    False\n",
              "Name: SMOKING, Length: 55394, dtype: bool"
            ]
          },
          "metadata": {},
          "execution_count": 103
        }
      ]
    },
    {
      "cell_type": "code",
      "source": [
        "lung_df['YELLOW_FINGERS'].isnull()"
      ],
      "metadata": {
        "colab": {
          "base_uri": "https://localhost:8080/"
        },
        "id": "2x9fCPp_3Oa8",
        "outputId": "153d2b40-2736-48b7-c5f2-ab305e79ba7e"
      },
      "execution_count": 104,
      "outputs": [
        {
          "output_type": "execute_result",
          "data": {
            "text/plain": [
              "0        False\n",
              "1        False\n",
              "2        False\n",
              "3        False\n",
              "4        False\n",
              "         ...  \n",
              "55389    False\n",
              "55390    False\n",
              "55391    False\n",
              "55392    False\n",
              "55393    False\n",
              "Name: YELLOW_FINGERS, Length: 55394, dtype: bool"
            ]
          },
          "metadata": {},
          "execution_count": 104
        }
      ]
    },
    {
      "cell_type": "code",
      "source": [
        "lung_df['ANXIETY'].isnull()"
      ],
      "metadata": {
        "colab": {
          "base_uri": "https://localhost:8080/"
        },
        "id": "urx55fke3ROG",
        "outputId": "8c0ce446-0856-4fc2-91dc-ebdcbd04c30c"
      },
      "execution_count": 105,
      "outputs": [
        {
          "output_type": "execute_result",
          "data": {
            "text/plain": [
              "0        False\n",
              "1        False\n",
              "2        False\n",
              "3        False\n",
              "4        False\n",
              "         ...  \n",
              "55389    False\n",
              "55390    False\n",
              "55391    False\n",
              "55392    False\n",
              "55393    False\n",
              "Name: ANXIETY, Length: 55394, dtype: bool"
            ]
          },
          "metadata": {},
          "execution_count": 105
        }
      ]
    },
    {
      "cell_type": "code",
      "source": [
        "lung_df['PEER_PRESSURE'].isnull()"
      ],
      "metadata": {
        "colab": {
          "base_uri": "https://localhost:8080/"
        },
        "id": "aMAZR10G3T68",
        "outputId": "10334779-9e7d-4959-a8b8-c3ef00779b9d"
      },
      "execution_count": 106,
      "outputs": [
        {
          "output_type": "execute_result",
          "data": {
            "text/plain": [
              "0        False\n",
              "1        False\n",
              "2        False\n",
              "3        False\n",
              "4        False\n",
              "         ...  \n",
              "55389    False\n",
              "55390    False\n",
              "55391    False\n",
              "55392    False\n",
              "55393    False\n",
              "Name: PEER_PRESSURE, Length: 55394, dtype: bool"
            ]
          },
          "metadata": {},
          "execution_count": 106
        }
      ]
    },
    {
      "cell_type": "code",
      "source": [
        "lung_df['CHRONIC_DISEASE'].isnull()"
      ],
      "metadata": {
        "colab": {
          "base_uri": "https://localhost:8080/"
        },
        "id": "7fA3N0lo3YIn",
        "outputId": "02b79759-19c6-42f2-dea4-164638621b63"
      },
      "execution_count": 107,
      "outputs": [
        {
          "output_type": "execute_result",
          "data": {
            "text/plain": [
              "0        False\n",
              "1        False\n",
              "2        False\n",
              "3        False\n",
              "4        False\n",
              "         ...  \n",
              "55389    False\n",
              "55390    False\n",
              "55391    False\n",
              "55392    False\n",
              "55393    False\n",
              "Name: CHRONIC_DISEASE, Length: 55394, dtype: bool"
            ]
          },
          "metadata": {},
          "execution_count": 107
        }
      ]
    },
    {
      "cell_type": "code",
      "source": [
        "lung_df['FATIGUE'].isnull()"
      ],
      "metadata": {
        "colab": {
          "base_uri": "https://localhost:8080/"
        },
        "id": "L_06PhVa3ZNs",
        "outputId": "5d153c90-0078-4c56-e552-359a6abd3589"
      },
      "execution_count": 108,
      "outputs": [
        {
          "output_type": "execute_result",
          "data": {
            "text/plain": [
              "0        False\n",
              "1        False\n",
              "2        False\n",
              "3        False\n",
              "4        False\n",
              "         ...  \n",
              "55389    False\n",
              "55390    False\n",
              "55391    False\n",
              "55392    False\n",
              "55393    False\n",
              "Name: FATIGUE, Length: 55394, dtype: bool"
            ]
          },
          "metadata": {},
          "execution_count": 108
        }
      ]
    },
    {
      "cell_type": "code",
      "source": [
        "lung_df['ALLERGY'].isnull()"
      ],
      "metadata": {
        "colab": {
          "base_uri": "https://localhost:8080/"
        },
        "id": "54vcreUV3dwX",
        "outputId": "79630372-7b14-4f19-c53d-4651be1631cf"
      },
      "execution_count": 109,
      "outputs": [
        {
          "output_type": "execute_result",
          "data": {
            "text/plain": [
              "0        False\n",
              "1        False\n",
              "2        False\n",
              "3        False\n",
              "4        False\n",
              "         ...  \n",
              "55389    False\n",
              "55390    False\n",
              "55391    False\n",
              "55392    False\n",
              "55393    False\n",
              "Name: ALLERGY, Length: 55394, dtype: bool"
            ]
          },
          "metadata": {},
          "execution_count": 109
        }
      ]
    },
    {
      "cell_type": "code",
      "source": [
        "lung_df['WHEEZING'].isnull()"
      ],
      "metadata": {
        "colab": {
          "base_uri": "https://localhost:8080/"
        },
        "id": "lZ3usSin3fCo",
        "outputId": "696a40c1-1618-444f-f776-39843d641b63"
      },
      "execution_count": 110,
      "outputs": [
        {
          "output_type": "execute_result",
          "data": {
            "text/plain": [
              "0        False\n",
              "1        False\n",
              "2        False\n",
              "3        False\n",
              "4        False\n",
              "         ...  \n",
              "55389    False\n",
              "55390    False\n",
              "55391    False\n",
              "55392    False\n",
              "55393    False\n",
              "Name: WHEEZING, Length: 55394, dtype: bool"
            ]
          },
          "metadata": {},
          "execution_count": 110
        }
      ]
    },
    {
      "cell_type": "code",
      "source": [
        "lung_df['ALCOHOL_CONSUMING'].isnull()"
      ],
      "metadata": {
        "colab": {
          "base_uri": "https://localhost:8080/"
        },
        "id": "VXXUdE4Z3hmn",
        "outputId": "b44ee294-fb19-4257-b3c2-88c0b140b909"
      },
      "execution_count": 111,
      "outputs": [
        {
          "output_type": "execute_result",
          "data": {
            "text/plain": [
              "0        False\n",
              "1        False\n",
              "2        False\n",
              "3        False\n",
              "4        False\n",
              "         ...  \n",
              "55389    False\n",
              "55390    False\n",
              "55391    False\n",
              "55392    False\n",
              "55393    False\n",
              "Name: ALCOHOL_CONSUMING, Length: 55394, dtype: bool"
            ]
          },
          "metadata": {},
          "execution_count": 111
        }
      ]
    },
    {
      "cell_type": "code",
      "source": [
        "lung_df['COUGHING'].isnull()"
      ],
      "metadata": {
        "colab": {
          "base_uri": "https://localhost:8080/"
        },
        "id": "bjhNWwtX3kCm",
        "outputId": "4c5e5c61-6bdc-4eb6-b9e4-ce09bcf1ca87"
      },
      "execution_count": 112,
      "outputs": [
        {
          "output_type": "execute_result",
          "data": {
            "text/plain": [
              "0        False\n",
              "1        False\n",
              "2        False\n",
              "3        False\n",
              "4        False\n",
              "         ...  \n",
              "55389    False\n",
              "55390    False\n",
              "55391    False\n",
              "55392    False\n",
              "55393    False\n",
              "Name: COUGHING, Length: 55394, dtype: bool"
            ]
          },
          "metadata": {},
          "execution_count": 112
        }
      ]
    },
    {
      "cell_type": "code",
      "source": [
        "lung_df['SHORTNESS_OF_BREATH'].isnull()"
      ],
      "metadata": {
        "colab": {
          "base_uri": "https://localhost:8080/"
        },
        "id": "kUFzUUJN3mgr",
        "outputId": "e7ee18f6-0542-4db6-a2b4-4ba7b0be566e"
      },
      "execution_count": 113,
      "outputs": [
        {
          "output_type": "execute_result",
          "data": {
            "text/plain": [
              "0        False\n",
              "1        False\n",
              "2        False\n",
              "3        False\n",
              "4        False\n",
              "         ...  \n",
              "55389    False\n",
              "55390    False\n",
              "55391    False\n",
              "55392    False\n",
              "55393    False\n",
              "Name: SHORTNESS_OF_BREATH, Length: 55394, dtype: bool"
            ]
          },
          "metadata": {},
          "execution_count": 113
        }
      ]
    },
    {
      "cell_type": "code",
      "source": [
        "lung_df['SWALLOWING_DIFFICULTY'].isnull()"
      ],
      "metadata": {
        "colab": {
          "base_uri": "https://localhost:8080/"
        },
        "id": "QAhIY33n3pH9",
        "outputId": "b7ee2b09-7587-47e1-d43c-b35e481700d4"
      },
      "execution_count": 114,
      "outputs": [
        {
          "output_type": "execute_result",
          "data": {
            "text/plain": [
              "0        False\n",
              "1        False\n",
              "2        False\n",
              "3        False\n",
              "4        False\n",
              "         ...  \n",
              "55389    False\n",
              "55390    False\n",
              "55391    False\n",
              "55392    False\n",
              "55393    False\n",
              "Name: SWALLOWING_DIFFICULTY, Length: 55394, dtype: bool"
            ]
          },
          "metadata": {},
          "execution_count": 114
        }
      ]
    },
    {
      "cell_type": "code",
      "source": [
        "lung_df['CHEST_PAIN'].isnull()"
      ],
      "metadata": {
        "colab": {
          "base_uri": "https://localhost:8080/"
        },
        "id": "twknlQt-3rkg",
        "outputId": "301cb21d-e099-4bc0-ff71-78c15e22a792"
      },
      "execution_count": 115,
      "outputs": [
        {
          "output_type": "execute_result",
          "data": {
            "text/plain": [
              "0        False\n",
              "1        False\n",
              "2        False\n",
              "3        False\n",
              "4        False\n",
              "         ...  \n",
              "55389    False\n",
              "55390    False\n",
              "55391    False\n",
              "55392    False\n",
              "55393    False\n",
              "Name: CHEST_PAIN, Length: 55394, dtype: bool"
            ]
          },
          "metadata": {},
          "execution_count": 115
        }
      ]
    },
    {
      "cell_type": "code",
      "source": [
        "y= lung_df.LUNG_CANCER"
      ],
      "metadata": {
        "id": "azhOZQge3t8g"
      },
      "execution_count": 116,
      "outputs": []
    },
    {
      "cell_type": "code",
      "source": [
        "x=lung_df.drop('LUNG_CANCER',axis=1)"
      ],
      "metadata": {
        "id": "FNmVxDTI3wbe"
      },
      "execution_count": 117,
      "outputs": []
    },
    {
      "cell_type": "code",
      "source": [
        "x_train,x_test,y_train,y_test=train_test_split(x,y,test_size=0.2)"
      ],
      "metadata": {
        "id": "H__4b-Up3woG"
      },
      "execution_count": 118,
      "outputs": []
    },
    {
      "cell_type": "markdown",
      "source": [
        "**9. Do the ranges of the predictor variables make sense?**\n",
        "\n",
        "Ans: By referring below table, the ranges of the predictor variables does makes sense. For example, for AGE min value is 18 and max value is 87."
      ],
      "metadata": {
        "id": "1VjNudH4prjj"
      }
    },
    {
      "cell_type": "code",
      "source": [
        "x_train.describe()"
      ],
      "metadata": {
        "colab": {
          "base_uri": "https://localhost:8080/",
          "height": 364
        },
        "id": "5YytP3ulp0bX",
        "outputId": "fecfc16e-78b6-4a62-a98b-a5f64d3b8bef"
      },
      "execution_count": 119,
      "outputs": [
        {
          "output_type": "execute_result",
          "data": {
            "text/plain": [
              "             GENDER           AGE       SMOKING  YELLOW_FINGERS       ANXIETY  \\\n",
              "count  44315.000000  44315.000000  44315.000000    44315.000000  44315.000000   \n",
              "mean       0.502742     44.108158      1.499267        1.496356      1.500846   \n",
              "std        0.499998     15.334482      0.500005        0.499992      0.500005   \n",
              "min        0.000000     18.000000      1.000000        1.000000      1.000000   \n",
              "25%        0.000000     31.000000      1.000000        1.000000      1.000000   \n",
              "50%        1.000000     44.000000      1.000000        1.000000      2.000000   \n",
              "75%        1.000000     57.000000      2.000000        2.000000      2.000000   \n",
              "max        1.000000     87.000000      2.000000        2.000000      2.000000   \n",
              "\n",
              "       PEER_PRESSURE  CHRONIC_DISEASE       FATIGUE       ALLERGY  \\\n",
              "count   44315.000000     44315.000000  44315.000000  44315.000000   \n",
              "mean        1.496852         1.501817      1.498161      1.500124   \n",
              "std         0.499996         0.500002      0.500002      0.500006   \n",
              "min         1.000000         1.000000      1.000000      1.000000   \n",
              "25%         1.000000         1.000000      1.000000      1.000000   \n",
              "50%         1.000000         2.000000      1.000000      2.000000   \n",
              "75%         2.000000         2.000000      2.000000      2.000000   \n",
              "max         2.000000         2.000000      2.000000      2.000000   \n",
              "\n",
              "           WHEEZING  ALCOHOL_CONSUMING      COUGHING  SHORTNESS_OF_BREATH  \\\n",
              "count  44315.000000       44315.000000  44315.000000         44315.000000   \n",
              "mean       1.501027           1.500327      1.506600             1.499109   \n",
              "std        0.500005           0.500006      0.499962             0.500005   \n",
              "min        1.000000           1.000000      1.000000             1.000000   \n",
              "25%        1.000000           1.000000      1.000000             1.000000   \n",
              "50%        2.000000           2.000000      2.000000             1.000000   \n",
              "75%        2.000000           2.000000      2.000000             2.000000   \n",
              "max        2.000000           2.000000      2.000000             2.000000   \n",
              "\n",
              "       SWALLOWING_DIFFICULTY    CHEST_PAIN  \n",
              "count           44315.000000  44315.000000  \n",
              "mean                1.497822      1.502358  \n",
              "std                 0.500001      0.500000  \n",
              "min                 1.000000      1.000000  \n",
              "25%                 1.000000      1.000000  \n",
              "50%                 1.000000      2.000000  \n",
              "75%                 2.000000      2.000000  \n",
              "max                 2.000000      2.000000  "
            ],
            "text/html": [
              "\n",
              "  <div id=\"df-43dfe34d-d04e-4d85-ac91-911ea3340ae0\">\n",
              "    <div class=\"colab-df-container\">\n",
              "      <div>\n",
              "<style scoped>\n",
              "    .dataframe tbody tr th:only-of-type {\n",
              "        vertical-align: middle;\n",
              "    }\n",
              "\n",
              "    .dataframe tbody tr th {\n",
              "        vertical-align: top;\n",
              "    }\n",
              "\n",
              "    .dataframe thead th {\n",
              "        text-align: right;\n",
              "    }\n",
              "</style>\n",
              "<table border=\"1\" class=\"dataframe\">\n",
              "  <thead>\n",
              "    <tr style=\"text-align: right;\">\n",
              "      <th></th>\n",
              "      <th>GENDER</th>\n",
              "      <th>AGE</th>\n",
              "      <th>SMOKING</th>\n",
              "      <th>YELLOW_FINGERS</th>\n",
              "      <th>ANXIETY</th>\n",
              "      <th>PEER_PRESSURE</th>\n",
              "      <th>CHRONIC_DISEASE</th>\n",
              "      <th>FATIGUE</th>\n",
              "      <th>ALLERGY</th>\n",
              "      <th>WHEEZING</th>\n",
              "      <th>ALCOHOL_CONSUMING</th>\n",
              "      <th>COUGHING</th>\n",
              "      <th>SHORTNESS_OF_BREATH</th>\n",
              "      <th>SWALLOWING_DIFFICULTY</th>\n",
              "      <th>CHEST_PAIN</th>\n",
              "    </tr>\n",
              "  </thead>\n",
              "  <tbody>\n",
              "    <tr>\n",
              "      <th>count</th>\n",
              "      <td>44315.000000</td>\n",
              "      <td>44315.000000</td>\n",
              "      <td>44315.000000</td>\n",
              "      <td>44315.000000</td>\n",
              "      <td>44315.000000</td>\n",
              "      <td>44315.000000</td>\n",
              "      <td>44315.000000</td>\n",
              "      <td>44315.000000</td>\n",
              "      <td>44315.000000</td>\n",
              "      <td>44315.000000</td>\n",
              "      <td>44315.000000</td>\n",
              "      <td>44315.000000</td>\n",
              "      <td>44315.000000</td>\n",
              "      <td>44315.000000</td>\n",
              "      <td>44315.000000</td>\n",
              "    </tr>\n",
              "    <tr>\n",
              "      <th>mean</th>\n",
              "      <td>0.502742</td>\n",
              "      <td>44.108158</td>\n",
              "      <td>1.499267</td>\n",
              "      <td>1.496356</td>\n",
              "      <td>1.500846</td>\n",
              "      <td>1.496852</td>\n",
              "      <td>1.501817</td>\n",
              "      <td>1.498161</td>\n",
              "      <td>1.500124</td>\n",
              "      <td>1.501027</td>\n",
              "      <td>1.500327</td>\n",
              "      <td>1.506600</td>\n",
              "      <td>1.499109</td>\n",
              "      <td>1.497822</td>\n",
              "      <td>1.502358</td>\n",
              "    </tr>\n",
              "    <tr>\n",
              "      <th>std</th>\n",
              "      <td>0.499998</td>\n",
              "      <td>15.334482</td>\n",
              "      <td>0.500005</td>\n",
              "      <td>0.499992</td>\n",
              "      <td>0.500005</td>\n",
              "      <td>0.499996</td>\n",
              "      <td>0.500002</td>\n",
              "      <td>0.500002</td>\n",
              "      <td>0.500006</td>\n",
              "      <td>0.500005</td>\n",
              "      <td>0.500006</td>\n",
              "      <td>0.499962</td>\n",
              "      <td>0.500005</td>\n",
              "      <td>0.500001</td>\n",
              "      <td>0.500000</td>\n",
              "    </tr>\n",
              "    <tr>\n",
              "      <th>min</th>\n",
              "      <td>0.000000</td>\n",
              "      <td>18.000000</td>\n",
              "      <td>1.000000</td>\n",
              "      <td>1.000000</td>\n",
              "      <td>1.000000</td>\n",
              "      <td>1.000000</td>\n",
              "      <td>1.000000</td>\n",
              "      <td>1.000000</td>\n",
              "      <td>1.000000</td>\n",
              "      <td>1.000000</td>\n",
              "      <td>1.000000</td>\n",
              "      <td>1.000000</td>\n",
              "      <td>1.000000</td>\n",
              "      <td>1.000000</td>\n",
              "      <td>1.000000</td>\n",
              "    </tr>\n",
              "    <tr>\n",
              "      <th>25%</th>\n",
              "      <td>0.000000</td>\n",
              "      <td>31.000000</td>\n",
              "      <td>1.000000</td>\n",
              "      <td>1.000000</td>\n",
              "      <td>1.000000</td>\n",
              "      <td>1.000000</td>\n",
              "      <td>1.000000</td>\n",
              "      <td>1.000000</td>\n",
              "      <td>1.000000</td>\n",
              "      <td>1.000000</td>\n",
              "      <td>1.000000</td>\n",
              "      <td>1.000000</td>\n",
              "      <td>1.000000</td>\n",
              "      <td>1.000000</td>\n",
              "      <td>1.000000</td>\n",
              "    </tr>\n",
              "    <tr>\n",
              "      <th>50%</th>\n",
              "      <td>1.000000</td>\n",
              "      <td>44.000000</td>\n",
              "      <td>1.000000</td>\n",
              "      <td>1.000000</td>\n",
              "      <td>2.000000</td>\n",
              "      <td>1.000000</td>\n",
              "      <td>2.000000</td>\n",
              "      <td>1.000000</td>\n",
              "      <td>2.000000</td>\n",
              "      <td>2.000000</td>\n",
              "      <td>2.000000</td>\n",
              "      <td>2.000000</td>\n",
              "      <td>1.000000</td>\n",
              "      <td>1.000000</td>\n",
              "      <td>2.000000</td>\n",
              "    </tr>\n",
              "    <tr>\n",
              "      <th>75%</th>\n",
              "      <td>1.000000</td>\n",
              "      <td>57.000000</td>\n",
              "      <td>2.000000</td>\n",
              "      <td>2.000000</td>\n",
              "      <td>2.000000</td>\n",
              "      <td>2.000000</td>\n",
              "      <td>2.000000</td>\n",
              "      <td>2.000000</td>\n",
              "      <td>2.000000</td>\n",
              "      <td>2.000000</td>\n",
              "      <td>2.000000</td>\n",
              "      <td>2.000000</td>\n",
              "      <td>2.000000</td>\n",
              "      <td>2.000000</td>\n",
              "      <td>2.000000</td>\n",
              "    </tr>\n",
              "    <tr>\n",
              "      <th>max</th>\n",
              "      <td>1.000000</td>\n",
              "      <td>87.000000</td>\n",
              "      <td>2.000000</td>\n",
              "      <td>2.000000</td>\n",
              "      <td>2.000000</td>\n",
              "      <td>2.000000</td>\n",
              "      <td>2.000000</td>\n",
              "      <td>2.000000</td>\n",
              "      <td>2.000000</td>\n",
              "      <td>2.000000</td>\n",
              "      <td>2.000000</td>\n",
              "      <td>2.000000</td>\n",
              "      <td>2.000000</td>\n",
              "      <td>2.000000</td>\n",
              "      <td>2.000000</td>\n",
              "    </tr>\n",
              "  </tbody>\n",
              "</table>\n",
              "</div>\n",
              "      <button class=\"colab-df-convert\" onclick=\"convertToInteractive('df-43dfe34d-d04e-4d85-ac91-911ea3340ae0')\"\n",
              "              title=\"Convert this dataframe to an interactive table.\"\n",
              "              style=\"display:none;\">\n",
              "        \n",
              "  <svg xmlns=\"http://www.w3.org/2000/svg\" height=\"24px\"viewBox=\"0 0 24 24\"\n",
              "       width=\"24px\">\n",
              "    <path d=\"M0 0h24v24H0V0z\" fill=\"none\"/>\n",
              "    <path d=\"M18.56 5.44l.94 2.06.94-2.06 2.06-.94-2.06-.94-.94-2.06-.94 2.06-2.06.94zm-11 1L8.5 8.5l.94-2.06 2.06-.94-2.06-.94L8.5 2.5l-.94 2.06-2.06.94zm10 10l.94 2.06.94-2.06 2.06-.94-2.06-.94-.94-2.06-.94 2.06-2.06.94z\"/><path d=\"M17.41 7.96l-1.37-1.37c-.4-.4-.92-.59-1.43-.59-.52 0-1.04.2-1.43.59L10.3 9.45l-7.72 7.72c-.78.78-.78 2.05 0 2.83L4 21.41c.39.39.9.59 1.41.59.51 0 1.02-.2 1.41-.59l7.78-7.78 2.81-2.81c.8-.78.8-2.07 0-2.86zM5.41 20L4 18.59l7.72-7.72 1.47 1.35L5.41 20z\"/>\n",
              "  </svg>\n",
              "      </button>\n",
              "      \n",
              "  <style>\n",
              "    .colab-df-container {\n",
              "      display:flex;\n",
              "      flex-wrap:wrap;\n",
              "      gap: 12px;\n",
              "    }\n",
              "\n",
              "    .colab-df-convert {\n",
              "      background-color: #E8F0FE;\n",
              "      border: none;\n",
              "      border-radius: 50%;\n",
              "      cursor: pointer;\n",
              "      display: none;\n",
              "      fill: #1967D2;\n",
              "      height: 32px;\n",
              "      padding: 0 0 0 0;\n",
              "      width: 32px;\n",
              "    }\n",
              "\n",
              "    .colab-df-convert:hover {\n",
              "      background-color: #E2EBFA;\n",
              "      box-shadow: 0px 1px 2px rgba(60, 64, 67, 0.3), 0px 1px 3px 1px rgba(60, 64, 67, 0.15);\n",
              "      fill: #174EA6;\n",
              "    }\n",
              "\n",
              "    [theme=dark] .colab-df-convert {\n",
              "      background-color: #3B4455;\n",
              "      fill: #D2E3FC;\n",
              "    }\n",
              "\n",
              "    [theme=dark] .colab-df-convert:hover {\n",
              "      background-color: #434B5C;\n",
              "      box-shadow: 0px 1px 3px 1px rgba(0, 0, 0, 0.15);\n",
              "      filter: drop-shadow(0px 1px 2px rgba(0, 0, 0, 0.3));\n",
              "      fill: #FFFFFF;\n",
              "    }\n",
              "  </style>\n",
              "\n",
              "      <script>\n",
              "        const buttonEl =\n",
              "          document.querySelector('#df-43dfe34d-d04e-4d85-ac91-911ea3340ae0 button.colab-df-convert');\n",
              "        buttonEl.style.display =\n",
              "          google.colab.kernel.accessAllowed ? 'block' : 'none';\n",
              "\n",
              "        async function convertToInteractive(key) {\n",
              "          const element = document.querySelector('#df-43dfe34d-d04e-4d85-ac91-911ea3340ae0');\n",
              "          const dataTable =\n",
              "            await google.colab.kernel.invokeFunction('convertToInteractive',\n",
              "                                                     [key], {});\n",
              "          if (!dataTable) return;\n",
              "\n",
              "          const docLinkHtml = 'Like what you see? Visit the ' +\n",
              "            '<a target=\"_blank\" href=https://colab.research.google.com/notebooks/data_table.ipynb>data table notebook</a>'\n",
              "            + ' to learn more about interactive tables.';\n",
              "          element.innerHTML = '';\n",
              "          dataTable['output_type'] = 'display_data';\n",
              "          await google.colab.output.renderOutput(dataTable, element);\n",
              "          const docLink = document.createElement('div');\n",
              "          docLink.innerHTML = docLinkHtml;\n",
              "          element.appendChild(docLink);\n",
              "        }\n",
              "      </script>\n",
              "    </div>\n",
              "  </div>\n",
              "  "
            ]
          },
          "metadata": {},
          "execution_count": 119
        }
      ]
    },
    {
      "cell_type": "markdown",
      "source": [
        "**6. Do the training and test sets have the same data?**\n",
        "\n",
        "Ans: As per below data and graphs here we can see that all predictor and target variables have same test and train data."
      ],
      "metadata": {
        "id": "wD_o-H2Jw4YL"
      }
    },
    {
      "cell_type": "code",
      "source": [
        "x_train.GENDER.unique()"
      ],
      "metadata": {
        "colab": {
          "base_uri": "https://localhost:8080/"
        },
        "id": "zBRlXA8OxAfQ",
        "outputId": "3815d86d-bd7b-48d8-eb65-5d3396084f67"
      },
      "execution_count": 120,
      "outputs": [
        {
          "output_type": "execute_result",
          "data": {
            "text/plain": [
              "array([1, 0])"
            ]
          },
          "metadata": {},
          "execution_count": 120
        }
      ]
    },
    {
      "cell_type": "code",
      "source": [
        "x_test.GENDER.unique()"
      ],
      "metadata": {
        "colab": {
          "base_uri": "https://localhost:8080/"
        },
        "id": "ABogbLoCzU2w",
        "outputId": "8d909a54-eae1-4833-d46a-55e1f5a558c7"
      },
      "execution_count": 121,
      "outputs": [
        {
          "output_type": "execute_result",
          "data": {
            "text/plain": [
              "array([0, 1])"
            ]
          },
          "metadata": {},
          "execution_count": 121
        }
      ]
    },
    {
      "cell_type": "code",
      "source": [
        "x_train['AGE'].hist()"
      ],
      "metadata": {
        "colab": {
          "base_uri": "https://localhost:8080/",
          "height": 282
        },
        "id": "aPrUnKGv2a5o",
        "outputId": "9e4389d6-b6ba-4748-da9e-03083a52e825"
      },
      "execution_count": 122,
      "outputs": [
        {
          "output_type": "execute_result",
          "data": {
            "text/plain": [
              "<matplotlib.axes._subplots.AxesSubplot at 0x7f429c167c50>"
            ]
          },
          "metadata": {},
          "execution_count": 122
        },
        {
          "output_type": "display_data",
          "data": {
            "text/plain": [
              "<Figure size 432x288 with 1 Axes>"
            ],
            "image/png": "[encoded data removed]"
          },
          "metadata": {
            "needs_background": "light"
          }
        }
      ]
    },
    {
      "cell_type": "code",
      "source": [
        "x_test['AGE'].hist()"
      ],
      "metadata": {
        "colab": {
          "base_uri": "https://localhost:8080/",
          "height": 284
        },
        "id": "MqbtgCro2mVj",
        "outputId": "f105458b-d1ae-41d1-df2d-d83ff4353a69"
      },
      "execution_count": 123,
      "outputs": [
        {
          "output_type": "execute_result",
          "data": {
            "text/plain": [
              "<matplotlib.axes._subplots.AxesSubplot at 0x7f4296b1c090>"
            ]
          },
          "metadata": {},
          "execution_count": 123
        },
        {
          "output_type": "display_data",
          "data": {
            "text/plain": [
              "<Figure size 432x288 with 1 Axes>"
            ],
            "image/png": "[encoded data removed]"
          },
          "metadata": {
            "needs_background": "light"
          }
        }
      ]
    },
    {
      "cell_type": "code",
      "source": [
        "x_train.SMOKING.unique()"
      ],
      "metadata": {
        "colab": {
          "base_uri": "https://localhost:8080/"
        },
        "id": "vSU5MMQm6OWz",
        "outputId": "374a638a-d6e5-45d4-eb9a-0598e4cbb128"
      },
      "execution_count": 124,
      "outputs": [
        {
          "output_type": "execute_result",
          "data": {
            "text/plain": [
              "array([1, 2])"
            ]
          },
          "metadata": {},
          "execution_count": 124
        }
      ]
    },
    {
      "cell_type": "code",
      "source": [
        "x_test.SMOKING.unique()"
      ],
      "metadata": {
        "colab": {
          "base_uri": "https://localhost:8080/"
        },
        "id": "x2dVJF816OaD",
        "outputId": "a7fbc60b-0677-419b-ac9b-aa7c16cd4e36"
      },
      "execution_count": 125,
      "outputs": [
        {
          "output_type": "execute_result",
          "data": {
            "text/plain": [
              "array([1, 2])"
            ]
          },
          "metadata": {},
          "execution_count": 125
        }
      ]
    },
    {
      "cell_type": "code",
      "source": [
        "x_train.YELLOW_FINGERS.unique()"
      ],
      "metadata": {
        "colab": {
          "base_uri": "https://localhost:8080/"
        },
        "id": "fPZHtcAOBqJg",
        "outputId": "8df25ab1-77da-451b-9bd9-3938bdc85c60"
      },
      "execution_count": 126,
      "outputs": [
        {
          "output_type": "execute_result",
          "data": {
            "text/plain": [
              "array([1, 2])"
            ]
          },
          "metadata": {},
          "execution_count": 126
        }
      ]
    },
    {
      "cell_type": "code",
      "source": [
        "x_test.YELLOW_FINGERS.unique()"
      ],
      "metadata": {
        "colab": {
          "base_uri": "https://localhost:8080/"
        },
        "id": "n3vNfYSlBqRB",
        "outputId": "2f200077-fdad-4b31-c00d-ac369321f47e"
      },
      "execution_count": 127,
      "outputs": [
        {
          "output_type": "execute_result",
          "data": {
            "text/plain": [
              "array([1, 2])"
            ]
          },
          "metadata": {},
          "execution_count": 127
        }
      ]
    },
    {
      "cell_type": "code",
      "source": [
        "x_train.ANXIETY.unique()"
      ],
      "metadata": {
        "colab": {
          "base_uri": "https://localhost:8080/"
        },
        "id": "YNEaC8mbB0_K",
        "outputId": "ddfea265-fc0b-426b-a142-2ae20196f2c5"
      },
      "execution_count": 128,
      "outputs": [
        {
          "output_type": "execute_result",
          "data": {
            "text/plain": [
              "array([1, 2])"
            ]
          },
          "metadata": {},
          "execution_count": 128
        }
      ]
    },
    {
      "cell_type": "code",
      "source": [
        "x_test.ANXIETY.unique()"
      ],
      "metadata": {
        "colab": {
          "base_uri": "https://localhost:8080/"
        },
        "id": "Maf01UGhB1G-",
        "outputId": "19d51753-dc44-4027-a781-891f5c932e51"
      },
      "execution_count": 129,
      "outputs": [
        {
          "output_type": "execute_result",
          "data": {
            "text/plain": [
              "array([1, 2])"
            ]
          },
          "metadata": {},
          "execution_count": 129
        }
      ]
    },
    {
      "cell_type": "code",
      "source": [
        "x_train.PEER_PRESSURE.unique()"
      ],
      "metadata": {
        "colab": {
          "base_uri": "https://localhost:8080/"
        },
        "id": "eB3qGxLNB-9-",
        "outputId": "41197374-10d4-4bb6-f3ee-dc94c6c9ac21"
      },
      "execution_count": 130,
      "outputs": [
        {
          "output_type": "execute_result",
          "data": {
            "text/plain": [
              "array([2, 1])"
            ]
          },
          "metadata": {},
          "execution_count": 130
        }
      ]
    },
    {
      "cell_type": "code",
      "source": [
        "x_test.PEER_PRESSURE.unique()"
      ],
      "metadata": {
        "colab": {
          "base_uri": "https://localhost:8080/"
        },
        "id": "H9Merbz8B_Z9",
        "outputId": "4175a18d-16be-40a2-d522-3a5edf63511d"
      },
      "execution_count": 131,
      "outputs": [
        {
          "output_type": "execute_result",
          "data": {
            "text/plain": [
              "array([1, 2])"
            ]
          },
          "metadata": {},
          "execution_count": 131
        }
      ]
    },
    {
      "cell_type": "code",
      "source": [
        "x_train.CHRONIC_DISEASE.unique()"
      ],
      "metadata": {
        "colab": {
          "base_uri": "https://localhost:8080/"
        },
        "id": "WRgMjZ7KCSGT",
        "outputId": "3ba5bf85-e9bd-4a7f-84d1-004dfd67c1cb"
      },
      "execution_count": 132,
      "outputs": [
        {
          "output_type": "execute_result",
          "data": {
            "text/plain": [
              "array([1, 2])"
            ]
          },
          "metadata": {},
          "execution_count": 132
        }
      ]
    },
    {
      "cell_type": "code",
      "source": [
        "x_test.CHRONIC_DISEASE.unique()"
      ],
      "metadata": {
        "colab": {
          "base_uri": "https://localhost:8080/"
        },
        "id": "9qtn7dRdCSP7",
        "outputId": "0c20cad6-eedf-4fb5-b1c2-b54450b27dbf"
      },
      "execution_count": 133,
      "outputs": [
        {
          "output_type": "execute_result",
          "data": {
            "text/plain": [
              "array([2, 1])"
            ]
          },
          "metadata": {},
          "execution_count": 133
        }
      ]
    },
    {
      "cell_type": "code",
      "source": [
        "x_train.FATIGUE.unique()"
      ],
      "metadata": {
        "colab": {
          "base_uri": "https://localhost:8080/"
        },
        "id": "1XJHPud0Ce4i",
        "outputId": "65f0347b-0666-4f2c-fe3a-88f71e593ff4"
      },
      "execution_count": 134,
      "outputs": [
        {
          "output_type": "execute_result",
          "data": {
            "text/plain": [
              "array([1, 2])"
            ]
          },
          "metadata": {},
          "execution_count": 134
        }
      ]
    },
    {
      "cell_type": "code",
      "source": [
        "x_test.FATIGUE.unique()"
      ],
      "metadata": {
        "colab": {
          "base_uri": "https://localhost:8080/"
        },
        "id": "Lcm9pFKWCfBW",
        "outputId": "ff23126d-fb67-42b6-c46f-ff0f46089397"
      },
      "execution_count": 135,
      "outputs": [
        {
          "output_type": "execute_result",
          "data": {
            "text/plain": [
              "array([2, 1])"
            ]
          },
          "metadata": {},
          "execution_count": 135
        }
      ]
    },
    {
      "cell_type": "code",
      "source": [
        "x_train.ALLERGY.unique()"
      ],
      "metadata": {
        "colab": {
          "base_uri": "https://localhost:8080/"
        },
        "id": "1JugWjX1CpVs",
        "outputId": "b5c37f5a-93f7-4278-90bd-490b794fe8fe"
      },
      "execution_count": 136,
      "outputs": [
        {
          "output_type": "execute_result",
          "data": {
            "text/plain": [
              "array([2, 1])"
            ]
          },
          "metadata": {},
          "execution_count": 136
        }
      ]
    },
    {
      "cell_type": "code",
      "source": [
        "x_test.ALLERGY.unique()"
      ],
      "metadata": {
        "colab": {
          "base_uri": "https://localhost:8080/"
        },
        "id": "7j9vApEdCphT",
        "outputId": "d421a156-5b3c-4655-e358-2013dfe832f4"
      },
      "execution_count": 137,
      "outputs": [
        {
          "output_type": "execute_result",
          "data": {
            "text/plain": [
              "array([1, 2])"
            ]
          },
          "metadata": {},
          "execution_count": 137
        }
      ]
    },
    {
      "cell_type": "code",
      "source": [
        "x_train.WHEEZING.unique()"
      ],
      "metadata": {
        "colab": {
          "base_uri": "https://localhost:8080/"
        },
        "id": "RHUTQee2C14R",
        "outputId": "a6b95b4b-1758-4d8c-8f93-b519d8a893a2"
      },
      "execution_count": 138,
      "outputs": [
        {
          "output_type": "execute_result",
          "data": {
            "text/plain": [
              "array([2, 1])"
            ]
          },
          "metadata": {},
          "execution_count": 138
        }
      ]
    },
    {
      "cell_type": "code",
      "source": [
        "x_test.WHEEZING.unique()"
      ],
      "metadata": {
        "colab": {
          "base_uri": "https://localhost:8080/"
        },
        "id": "9BRO9DSdC2Hf",
        "outputId": "603f0b6b-6818-480a-b32b-2b3359a5e91a"
      },
      "execution_count": 139,
      "outputs": [
        {
          "output_type": "execute_result",
          "data": {
            "text/plain": [
              "array([2, 1])"
            ]
          },
          "metadata": {},
          "execution_count": 139
        }
      ]
    },
    {
      "cell_type": "code",
      "source": [
        "x_train.ALCOHOL_CONSUMING.unique()"
      ],
      "metadata": {
        "colab": {
          "base_uri": "https://localhost:8080/"
        },
        "id": "4HlxxOmODFco",
        "outputId": "02181f9b-8f05-41b9-dd2a-3951ec44b41c"
      },
      "execution_count": 140,
      "outputs": [
        {
          "output_type": "execute_result",
          "data": {
            "text/plain": [
              "array([1, 2])"
            ]
          },
          "metadata": {},
          "execution_count": 140
        }
      ]
    },
    {
      "cell_type": "code",
      "source": [
        "x_test.ALCOHOL_CONSUMING.unique()"
      ],
      "metadata": {
        "colab": {
          "base_uri": "https://localhost:8080/"
        },
        "id": "GM5-eljyDFn0",
        "outputId": "ce51ea33-43c9-4c88-95a8-5e61a6ade393"
      },
      "execution_count": 141,
      "outputs": [
        {
          "output_type": "execute_result",
          "data": {
            "text/plain": [
              "array([2, 1])"
            ]
          },
          "metadata": {},
          "execution_count": 141
        }
      ]
    },
    {
      "cell_type": "code",
      "source": [
        "x_train.COUGHING.unique()"
      ],
      "metadata": {
        "colab": {
          "base_uri": "https://localhost:8080/"
        },
        "id": "t7Hh7T3cDnep",
        "outputId": "3bdba3af-df59-4d31-9228-76df65f29596"
      },
      "execution_count": 142,
      "outputs": [
        {
          "output_type": "execute_result",
          "data": {
            "text/plain": [
              "array([2, 1])"
            ]
          },
          "metadata": {},
          "execution_count": 142
        }
      ]
    },
    {
      "cell_type": "code",
      "source": [
        "x_test.COUGHING.unique()"
      ],
      "metadata": {
        "colab": {
          "base_uri": "https://localhost:8080/"
        },
        "id": "URFwHg4yDnp-",
        "outputId": "b219496d-6337-47c4-adc1-9b4e24a71fbd"
      },
      "execution_count": 143,
      "outputs": [
        {
          "output_type": "execute_result",
          "data": {
            "text/plain": [
              "array([1, 2])"
            ]
          },
          "metadata": {},
          "execution_count": 143
        }
      ]
    },
    {
      "cell_type": "code",
      "source": [
        "x_train.SHORTNESS_OF_BREATH.unique()"
      ],
      "metadata": {
        "colab": {
          "base_uri": "https://localhost:8080/"
        },
        "id": "taZ7a0OqED54",
        "outputId": "8d535534-d39b-4625-da03-192f3ac5d6ee"
      },
      "execution_count": 144,
      "outputs": [
        {
          "output_type": "execute_result",
          "data": {
            "text/plain": [
              "array([2, 1])"
            ]
          },
          "metadata": {},
          "execution_count": 144
        }
      ]
    },
    {
      "cell_type": "code",
      "source": [
        "x_test.SHORTNESS_OF_BREATH.unique()"
      ],
      "metadata": {
        "colab": {
          "base_uri": "https://localhost:8080/"
        },
        "id": "09nuVSI1EED3",
        "outputId": "df4fb0df-af41-49af-9622-9dfae3c28f27"
      },
      "execution_count": 145,
      "outputs": [
        {
          "output_type": "execute_result",
          "data": {
            "text/plain": [
              "array([1, 2])"
            ]
          },
          "metadata": {},
          "execution_count": 145
        }
      ]
    },
    {
      "cell_type": "code",
      "source": [
        "x_train.SWALLOWING_DIFFICULTY.unique()"
      ],
      "metadata": {
        "colab": {
          "base_uri": "https://localhost:8080/"
        },
        "id": "9iZReDnpOMYa",
        "outputId": "bc62f069-dd12-4492-b9d2-8c456b7219a4"
      },
      "execution_count": 146,
      "outputs": [
        {
          "output_type": "execute_result",
          "data": {
            "text/plain": [
              "array([1, 2])"
            ]
          },
          "metadata": {},
          "execution_count": 146
        }
      ]
    },
    {
      "cell_type": "code",
      "source": [
        "x_test.SWALLOWING_DIFFICULTY.unique()"
      ],
      "metadata": {
        "colab": {
          "base_uri": "https://localhost:8080/"
        },
        "id": "T3XrZRboOMgs",
        "outputId": "e3bb37c3-08b6-4388-e11b-0074ce865945"
      },
      "execution_count": 147,
      "outputs": [
        {
          "output_type": "execute_result",
          "data": {
            "text/plain": [
              "array([2, 1])"
            ]
          },
          "metadata": {},
          "execution_count": 147
        }
      ]
    },
    {
      "cell_type": "code",
      "source": [
        "x_train.CHEST_PAIN.unique()"
      ],
      "metadata": {
        "colab": {
          "base_uri": "https://localhost:8080/"
        },
        "id": "4oWn86kvOWuD",
        "outputId": "2e1ad408-9de6-4149-a52e-b936192c130e"
      },
      "execution_count": 148,
      "outputs": [
        {
          "output_type": "execute_result",
          "data": {
            "text/plain": [
              "array([1, 2])"
            ]
          },
          "metadata": {},
          "execution_count": 148
        }
      ]
    },
    {
      "cell_type": "code",
      "source": [
        "x_test.CHEST_PAIN.unique()"
      ],
      "metadata": {
        "colab": {
          "base_uri": "https://localhost:8080/"
        },
        "id": "9F1ajqr2OW0i",
        "outputId": "0bc57015-86eb-42db-9d8b-da6a325d5b30"
      },
      "execution_count": 149,
      "outputs": [
        {
          "output_type": "execute_result",
          "data": {
            "text/plain": [
              "array([1, 2])"
            ]
          },
          "metadata": {},
          "execution_count": 149
        }
      ]
    },
    {
      "cell_type": "code",
      "source": [
        "y_train.hist()"
      ],
      "metadata": {
        "colab": {
          "base_uri": "https://localhost:8080/",
          "height": 282
        },
        "id": "0zuqN6ieOtwi",
        "outputId": "0fcbf317-54d3-4f8f-da18-7f1aa8ac756d"
      },
      "execution_count": 150,
      "outputs": [
        {
          "output_type": "execute_result",
          "data": {
            "text/plain": [
              "<matplotlib.axes._subplots.AxesSubplot at 0x7f4296a5a150>"
            ]
          },
          "metadata": {},
          "execution_count": 150
        },
        {
          "output_type": "display_data",
          "data": {
            "text/plain": [
              "<Figure size 432x288 with 1 Axes>"
            ],
            "image/png": "[encoded data removed]"
          },
          "metadata": {
            "needs_background": "light"
          }
        }
      ]
    },
    {
      "cell_type": "code",
      "source": [
        "y_test.hist()"
      ],
      "metadata": {
        "colab": {
          "base_uri": "https://localhost:8080/",
          "height": 282
        },
        "id": "l4dk616pOt30",
        "outputId": "ec7d74d6-8209-42e9-f1ca-290a3db5ef16"
      },
      "execution_count": 151,
      "outputs": [
        {
          "output_type": "execute_result",
          "data": {
            "text/plain": [
              "<matplotlib.axes._subplots.AxesSubplot at 0x7f42969d8a50>"
            ]
          },
          "metadata": {},
          "execution_count": 151
        },
        {
          "output_type": "display_data",
          "data": {
            "text/plain": [
              "<Figure size 432x288 with 1 Axes>"
            ],
            "image/png": "[encoded data removed]"
          },
          "metadata": {
            "needs_background": "light"
          }
        }
      ]
    },
    {
      "cell_type": "markdown",
      "source": [
        "**7. In the predictor variables independent of all the other predictor variables?**\n",
        "\n",
        "Ans: Values close to 1 are positively correlated, values close to -1 are negatively correlated and values close to 0 does not have linear relationship with each other. By looking at the above correlation matrix we can conclude that no two variables are highly correlated to each other.\n",
        "\n"
      ],
      "metadata": {
        "id": "P-HW37WB4zst"
      }
    },
    {
      "cell_type": "code",
      "source": [
        "plt.figure(figsize=(16, 12))\n",
        "sns.heatmap(lung_df.corr(), annot=True, cmap=\"YlGnBu\")"
      ],
      "metadata": {
        "colab": {
          "base_uri": "https://localhost:8080/",
          "height": 840
        },
        "id": "6xFmj3Xg3wvg",
        "outputId": "972177bf-f088-4f67-9c41-6b88e373b85e"
      },
      "execution_count": 152,
      "outputs": [
        {
          "output_type": "execute_result",
          "data": {
            "text/plain": [
              "<matplotlib.axes._subplots.AxesSubplot at 0x7f4297126a50>"
            ]
          },
          "metadata": {},
          "execution_count": 152
        },
        {
          "output_type": "display_data",
          "data": {
            "text/plain": [
              "<Figure size 1152x864 with 2 Axes>"
            ],
            "image/png": "[encoded data removed]"
          },
          "metadata": {
            "needs_background": "light"
          }
        }
      ]
    },
    {
      "cell_type": "code",
      "source": [
        "lung_df.corr()"
      ],
      "metadata": {
        "colab": {
          "base_uri": "https://localhost:8080/",
          "height": 615
        },
        "id": "vL2eMBoW3w2O",
        "outputId": "59f321b8-1238-4700-8629-a5dc8d5c7715"
      },
      "execution_count": 153,
      "outputs": [
        {
          "output_type": "execute_result",
          "data": {
            "text/plain": [
              "                         GENDER       AGE   SMOKING  YELLOW_FINGERS   ANXIETY  \\\n",
              "GENDER                 1.000000 -0.001740 -0.001729        0.000571 -0.001521   \n",
              "AGE                   -0.001740  1.000000 -0.001042        0.001289  0.002827   \n",
              "SMOKING               -0.001729 -0.001042  1.000000        0.000571 -0.000901   \n",
              "YELLOW_FINGERS         0.000571  0.001289  0.000571        1.000000  0.007880   \n",
              "ANXIETY               -0.001521  0.002827 -0.000901        0.007880  1.000000   \n",
              "PEER_PRESSURE         -0.002682 -0.000269  0.002882       -0.001384  0.004918   \n",
              "CHRONIC_DISEASE       -0.003619  0.008720 -0.009999        0.001099  0.001189   \n",
              "FATIGUE               -0.003991  0.003498  0.002379       -0.004977 -0.003461   \n",
              "ALLERGY               -0.003843 -0.003469  0.001556        0.002917 -0.004807   \n",
              "WHEEZING               0.002699  0.001161 -0.004981        0.006118 -0.002025   \n",
              "ALCOHOL_CONSUMING     -0.008436 -0.003461 -0.001844        0.003804 -0.002487   \n",
              "COUGHING               0.000032 -0.000948 -0.001615       -0.003536 -0.008642   \n",
              "SHORTNESS_OF_BREATH   -0.008383 -0.003281  0.001337        0.004272 -0.001699   \n",
              "SWALLOWING_DIFFICULTY  0.002744  0.005846  0.009568       -0.001950  0.008629   \n",
              "CHEST_PAIN             0.004211  0.001377 -0.002019        0.000999 -0.008886   \n",
              "LUNG_CANCER            0.007253 -0.003676 -0.003004       -0.002730  0.004595   \n",
              "\n",
              "                       PEER_PRESSURE  CHRONIC_DISEASE   FATIGUE   ALLERGY  \\\n",
              "GENDER                     -0.002682        -0.003619 -0.003991 -0.003843   \n",
              "AGE                        -0.000269         0.008720  0.003498 -0.003469   \n",
              "SMOKING                     0.002882        -0.009999  0.002379  0.001556   \n",
              "YELLOW_FINGERS             -0.001384         0.001099 -0.004977  0.002917   \n",
              "ANXIETY                     0.004918         0.001189 -0.003461 -0.004807   \n",
              "PEER_PRESSURE               1.000000         0.001819 -0.002229 -0.000481   \n",
              "CHRONIC_DISEASE             0.001819         1.000000  0.003403  0.005661   \n",
              "FATIGUE                    -0.002229         0.003403  1.000000 -0.003956   \n",
              "ALLERGY                    -0.000481         0.005661 -0.003956  1.000000   \n",
              "WHEEZING                    0.000194        -0.003398  0.003006 -0.004991   \n",
              "ALCOHOL_CONSUMING           0.003735         0.008563 -0.002685 -0.000241   \n",
              "COUGHING                   -0.001018        -0.003307  0.000114 -0.008163   \n",
              "SHORTNESS_OF_BREATH        -0.002373         0.006532  0.003906  0.001041   \n",
              "SWALLOWING_DIFFICULTY       0.007726        -0.001913  0.000072 -0.005885   \n",
              "CHEST_PAIN                 -0.002398        -0.001018 -0.005944 -0.003262   \n",
              "LUNG_CANCER                -0.008138         0.005324 -0.000466 -0.001739   \n",
              "\n",
              "                       WHEEZING  ALCOHOL_CONSUMING  COUGHING  \\\n",
              "GENDER                 0.002699          -0.008436  0.000032   \n",
              "AGE                    0.001161          -0.003461 -0.000948   \n",
              "SMOKING               -0.004981          -0.001844 -0.001615   \n",
              "YELLOW_FINGERS         0.006118           0.003804 -0.003536   \n",
              "ANXIETY               -0.002025          -0.002487 -0.008642   \n",
              "PEER_PRESSURE          0.000194           0.003735 -0.001018   \n",
              "CHRONIC_DISEASE       -0.003398           0.008563 -0.003307   \n",
              "FATIGUE                0.003006          -0.002685  0.000114   \n",
              "ALLERGY               -0.004991          -0.000241 -0.008163   \n",
              "WHEEZING               1.000000           0.006000  0.001567   \n",
              "ALCOHOL_CONSUMING      0.006000           1.000000 -0.002171   \n",
              "COUGHING               0.001567          -0.002171  1.000000   \n",
              "SHORTNESS_OF_BREATH    0.004763          -0.000248  0.007387   \n",
              "SWALLOWING_DIFFICULTY -0.001227           0.000397  0.002420   \n",
              "CHEST_PAIN             0.002412          -0.002517  0.003433   \n",
              "LUNG_CANCER            0.000305          -0.002227 -0.007468   \n",
              "\n",
              "                       SHORTNESS_OF_BREATH  SWALLOWING_DIFFICULTY  CHEST_PAIN  \\\n",
              "GENDER                           -0.008383               0.002744    0.004211   \n",
              "AGE                              -0.003281               0.005846    0.001377   \n",
              "SMOKING                           0.001337               0.009568   -0.002019   \n",
              "YELLOW_FINGERS                    0.004272              -0.001950    0.000999   \n",
              "ANXIETY                          -0.001699               0.008629   -0.008886   \n",
              "PEER_PRESSURE                    -0.002373               0.007726   -0.002398   \n",
              "CHRONIC_DISEASE                   0.006532              -0.001913   -0.001018   \n",
              "FATIGUE                           0.003906               0.000072   -0.005944   \n",
              "ALLERGY                           0.001041              -0.005885   -0.003262   \n",
              "WHEEZING                          0.004763              -0.001227    0.002412   \n",
              "ALCOHOL_CONSUMING                -0.000248               0.000397   -0.002517   \n",
              "COUGHING                          0.007387               0.002420    0.003433   \n",
              "SHORTNESS_OF_BREATH               1.000000              -0.004296   -0.000438   \n",
              "SWALLOWING_DIFFICULTY            -0.004296               1.000000    0.001228   \n",
              "CHEST_PAIN                       -0.000438               0.001228    1.000000   \n",
              "LUNG_CANCER                       0.003803               0.001841    0.003420   \n",
              "\n",
              "                       LUNG_CANCER  \n",
              "GENDER                    0.007253  \n",
              "AGE                      -0.003676  \n",
              "SMOKING                  -0.003004  \n",
              "YELLOW_FINGERS           -0.002730  \n",
              "ANXIETY                   0.004595  \n",
              "PEER_PRESSURE            -0.008138  \n",
              "CHRONIC_DISEASE           0.005324  \n",
              "FATIGUE                  -0.000466  \n",
              "ALLERGY                  -0.001739  \n",
              "WHEEZING                  0.000305  \n",
              "ALCOHOL_CONSUMING        -0.002227  \n",
              "COUGHING                 -0.007468  \n",
              "SHORTNESS_OF_BREATH       0.003803  \n",
              "SWALLOWING_DIFFICULTY     0.001841  \n",
              "CHEST_PAIN                0.003420  \n",
              "LUNG_CANCER               1.000000  "
            ],
            "text/html": [
              "\n",
              "  <div id=\"df-8db72084-ca51-46fa-92f3-c90d75a7a6da\">\n",
              "    <div class=\"colab-df-container\">\n",
              "      <div>\n",
              "<style scoped>\n",
              "    .dataframe tbody tr th:only-of-type {\n",
              "        vertical-align: middle;\n",
              "    }\n",
              "\n",
              "    .dataframe tbody tr th {\n",
              "        vertical-align: top;\n",
              "    }\n",
              "\n",
              "    .dataframe thead th {\n",
              "        text-align: right;\n",
              "    }\n",
              "</style>\n",
              "<table border=\"1\" class=\"dataframe\">\n",
              "  <thead>\n",
              "    <tr style=\"text-align: right;\">\n",
              "      <th></th>\n",
              "      <th>GENDER</th>\n",
              "      <th>AGE</th>\n",
              "      <th>SMOKING</th>\n",
              "      <th>YELLOW_FINGERS</th>\n",
              "      <th>ANXIETY</th>\n",
              "      <th>PEER_PRESSURE</th>\n",
              "      <th>CHRONIC_DISEASE</th>\n",
              "      <th>FATIGUE</th>\n",
              "      <th>ALLERGY</th>\n",
              "      <th>WHEEZING</th>\n",
              "      <th>ALCOHOL_CONSUMING</th>\n",
              "      <th>COUGHING</th>\n",
              "      <th>SHORTNESS_OF_BREATH</th>\n",
              "      <th>SWALLOWING_DIFFICULTY</th>\n",
              "      <th>CHEST_PAIN</th>\n",
              "      <th>LUNG_CANCER</th>\n",
              "    </tr>\n",
              "  </thead>\n",
              "  <tbody>\n",
              "    <tr>\n",
              "      <th>GENDER</th>\n",
              "      <td>1.000000</td>\n",
              "      <td>-0.001740</td>\n",
              "      <td>-0.001729</td>\n",
              "      <td>0.000571</td>\n",
              "      <td>-0.001521</td>\n",
              "      <td>-0.002682</td>\n",
              "      <td>-0.003619</td>\n",
              "      <td>-0.003991</td>\n",
              "      <td>-0.003843</td>\n",
              "      <td>0.002699</td>\n",
              "      <td>-0.008436</td>\n",
              "      <td>0.000032</td>\n",
              "      <td>-0.008383</td>\n",
              "      <td>0.002744</td>\n",
              "      <td>0.004211</td>\n",
              "      <td>0.007253</td>\n",
              "    </tr>\n",
              "    <tr>\n",
              "      <th>AGE</th>\n",
              "      <td>-0.001740</td>\n",
              "      <td>1.000000</td>\n",
              "      <td>-0.001042</td>\n",
              "      <td>0.001289</td>\n",
              "      <td>0.002827</td>\n",
              "      <td>-0.000269</td>\n",
              "      <td>0.008720</td>\n",
              "      <td>0.003498</td>\n",
              "      <td>-0.003469</td>\n",
              "      <td>0.001161</td>\n",
              "      <td>-0.003461</td>\n",
              "      <td>-0.000948</td>\n",
              "      <td>-0.003281</td>\n",
              "      <td>0.005846</td>\n",
              "      <td>0.001377</td>\n",
              "      <td>-0.003676</td>\n",
              "    </tr>\n",
              "    <tr>\n",
              "      <th>SMOKING</th>\n",
              "      <td>-0.001729</td>\n",
              "      <td>-0.001042</td>\n",
              "      <td>1.000000</td>\n",
              "      <td>0.000571</td>\n",
              "      <td>-0.000901</td>\n",
              "      <td>0.002882</td>\n",
              "      <td>-0.009999</td>\n",
              "      <td>0.002379</td>\n",
              "      <td>0.001556</td>\n",
              "      <td>-0.004981</td>\n",
              "      <td>-0.001844</td>\n",
              "      <td>-0.001615</td>\n",
              "      <td>0.001337</td>\n",
              "      <td>0.009568</td>\n",
              "      <td>-0.002019</td>\n",
              "      <td>-0.003004</td>\n",
              "    </tr>\n",
              "    <tr>\n",
              "      <th>YELLOW_FINGERS</th>\n",
              "      <td>0.000571</td>\n",
              "      <td>0.001289</td>\n",
              "      <td>0.000571</td>\n",
              "      <td>1.000000</td>\n",
              "      <td>0.007880</td>\n",
              "      <td>-0.001384</td>\n",
              "      <td>0.001099</td>\n",
              "      <td>-0.004977</td>\n",
              "      <td>0.002917</td>\n",
              "      <td>0.006118</td>\n",
              "      <td>0.003804</td>\n",
              "      <td>-0.003536</td>\n",
              "      <td>0.004272</td>\n",
              "      <td>-0.001950</td>\n",
              "      <td>0.000999</td>\n",
              "      <td>-0.002730</td>\n",
              "    </tr>\n",
              "    <tr>\n",
              "      <th>ANXIETY</th>\n",
              "      <td>-0.001521</td>\n",
              "      <td>0.002827</td>\n",
              "      <td>-0.000901</td>\n",
              "      <td>0.007880</td>\n",
              "      <td>1.000000</td>\n",
              "      <td>0.004918</td>\n",
              "      <td>0.001189</td>\n",
              "      <td>-0.003461</td>\n",
              "      <td>-0.004807</td>\n",
              "      <td>-0.002025</td>\n",
              "      <td>-0.002487</td>\n",
              "      <td>-0.008642</td>\n",
              "      <td>-0.001699</td>\n",
              "      <td>0.008629</td>\n",
              "      <td>-0.008886</td>\n",
              "      <td>0.004595</td>\n",
              "    </tr>\n",
              "    <tr>\n",
              "      <th>PEER_PRESSURE</th>\n",
              "      <td>-0.002682</td>\n",
              "      <td>-0.000269</td>\n",
              "      <td>0.002882</td>\n",
              "      <td>-0.001384</td>\n",
              "      <td>0.004918</td>\n",
              "      <td>1.000000</td>\n",
              "      <td>0.001819</td>\n",
              "      <td>-0.002229</td>\n",
              "      <td>-0.000481</td>\n",
              "      <td>0.000194</td>\n",
              "      <td>0.003735</td>\n",
              "      <td>-0.001018</td>\n",
              "      <td>-0.002373</td>\n",
              "      <td>0.007726</td>\n",
              "      <td>-0.002398</td>\n",
              "      <td>-0.008138</td>\n",
              "    </tr>\n",
              "    <tr>\n",
              "      <th>CHRONIC_DISEASE</th>\n",
              "      <td>-0.003619</td>\n",
              "      <td>0.008720</td>\n",
              "      <td>-0.009999</td>\n",
              "      <td>0.001099</td>\n",
              "      <td>0.001189</td>\n",
              "      <td>0.001819</td>\n",
              "      <td>1.000000</td>\n",
              "      <td>0.003403</td>\n",
              "      <td>0.005661</td>\n",
              "      <td>-0.003398</td>\n",
              "      <td>0.008563</td>\n",
              "      <td>-0.003307</td>\n",
              "      <td>0.006532</td>\n",
              "      <td>-0.001913</td>\n",
              "      <td>-0.001018</td>\n",
              "      <td>0.005324</td>\n",
              "    </tr>\n",
              "    <tr>\n",
              "      <th>FATIGUE</th>\n",
              "      <td>-0.003991</td>\n",
              "      <td>0.003498</td>\n",
              "      <td>0.002379</td>\n",
              "      <td>-0.004977</td>\n",
              "      <td>-0.003461</td>\n",
              "      <td>-0.002229</td>\n",
              "      <td>0.003403</td>\n",
              "      <td>1.000000</td>\n",
              "      <td>-0.003956</td>\n",
              "      <td>0.003006</td>\n",
              "      <td>-0.002685</td>\n",
              "      <td>0.000114</td>\n",
              "      <td>0.003906</td>\n",
              "      <td>0.000072</td>\n",
              "      <td>-0.005944</td>\n",
              "      <td>-0.000466</td>\n",
              "    </tr>\n",
              "    <tr>\n",
              "      <th>ALLERGY</th>\n",
              "      <td>-0.003843</td>\n",
              "      <td>-0.003469</td>\n",
              "      <td>0.001556</td>\n",
              "      <td>0.002917</td>\n",
              "      <td>-0.004807</td>\n",
              "      <td>-0.000481</td>\n",
              "      <td>0.005661</td>\n",
              "      <td>-0.003956</td>\n",
              "      <td>1.000000</td>\n",
              "      <td>-0.004991</td>\n",
              "      <td>-0.000241</td>\n",
              "      <td>-0.008163</td>\n",
              "      <td>0.001041</td>\n",
              "      <td>-0.005885</td>\n",
              "      <td>-0.003262</td>\n",
              "      <td>-0.001739</td>\n",
              "    </tr>\n",
              "    <tr>\n",
              "      <th>WHEEZING</th>\n",
              "      <td>0.002699</td>\n",
              "      <td>0.001161</td>\n",
              "      <td>-0.004981</td>\n",
              "      <td>0.006118</td>\n",
              "      <td>-0.002025</td>\n",
              "      <td>0.000194</td>\n",
              "      <td>-0.003398</td>\n",
              "      <td>0.003006</td>\n",
              "      <td>-0.004991</td>\n",
              "      <td>1.000000</td>\n",
              "      <td>0.006000</td>\n",
              "      <td>0.001567</td>\n",
              "      <td>0.004763</td>\n",
              "      <td>-0.001227</td>\n",
              "      <td>0.002412</td>\n",
              "      <td>0.000305</td>\n",
              "    </tr>\n",
              "    <tr>\n",
              "      <th>ALCOHOL_CONSUMING</th>\n",
              "      <td>-0.008436</td>\n",
              "      <td>-0.003461</td>\n",
              "      <td>-0.001844</td>\n",
              "      <td>0.003804</td>\n",
              "      <td>-0.002487</td>\n",
              "      <td>0.003735</td>\n",
              "      <td>0.008563</td>\n",
              "      <td>-0.002685</td>\n",
              "      <td>-0.000241</td>\n",
              "      <td>0.006000</td>\n",
              "      <td>1.000000</td>\n",
              "      <td>-0.002171</td>\n",
              "      <td>-0.000248</td>\n",
              "      <td>0.000397</td>\n",
              "      <td>-0.002517</td>\n",
              "      <td>-0.002227</td>\n",
              "    </tr>\n",
              "    <tr>\n",
              "      <th>COUGHING</th>\n",
              "      <td>0.000032</td>\n",
              "      <td>-0.000948</td>\n",
              "      <td>-0.001615</td>\n",
              "      <td>-0.003536</td>\n",
              "      <td>-0.008642</td>\n",
              "      <td>-0.001018</td>\n",
              "      <td>-0.003307</td>\n",
              "      <td>0.000114</td>\n",
              "      <td>-0.008163</td>\n",
              "      <td>0.001567</td>\n",
              "      <td>-0.002171</td>\n",
              "      <td>1.000000</td>\n",
              "      <td>0.007387</td>\n",
              "      <td>0.002420</td>\n",
              "      <td>0.003433</td>\n",
              "      <td>-0.007468</td>\n",
              "    </tr>\n",
              "    <tr>\n",
              "      <th>SHORTNESS_OF_BREATH</th>\n",
              "      <td>-0.008383</td>\n",
              "      <td>-0.003281</td>\n",
              "      <td>0.001337</td>\n",
              "      <td>0.004272</td>\n",
              "      <td>-0.001699</td>\n",
              "      <td>-0.002373</td>\n",
              "      <td>0.006532</td>\n",
              "      <td>0.003906</td>\n",
              "      <td>0.001041</td>\n",
              "      <td>0.004763</td>\n",
              "      <td>-0.000248</td>\n",
              "      <td>0.007387</td>\n",
              "      <td>1.000000</td>\n",
              "      <td>-0.004296</td>\n",
              "      <td>-0.000438</td>\n",
              "      <td>0.003803</td>\n",
              "    </tr>\n",
              "    <tr>\n",
              "      <th>SWALLOWING_DIFFICULTY</th>\n",
              "      <td>0.002744</td>\n",
              "      <td>0.005846</td>\n",
              "      <td>0.009568</td>\n",
              "      <td>-0.001950</td>\n",
              "      <td>0.008629</td>\n",
              "      <td>0.007726</td>\n",
              "      <td>-0.001913</td>\n",
              "      <td>0.000072</td>\n",
              "      <td>-0.005885</td>\n",
              "      <td>-0.001227</td>\n",
              "      <td>0.000397</td>\n",
              "      <td>0.002420</td>\n",
              "      <td>-0.004296</td>\n",
              "      <td>1.000000</td>\n",
              "      <td>0.001228</td>\n",
              "      <td>0.001841</td>\n",
              "    </tr>\n",
              "    <tr>\n",
              "      <th>CHEST_PAIN</th>\n",
              "      <td>0.004211</td>\n",
              "      <td>0.001377</td>\n",
              "      <td>-0.002019</td>\n",
              "      <td>0.000999</td>\n",
              "      <td>-0.008886</td>\n",
              "      <td>-0.002398</td>\n",
              "      <td>-0.001018</td>\n",
              "      <td>-0.005944</td>\n",
              "      <td>-0.003262</td>\n",
              "      <td>0.002412</td>\n",
              "      <td>-0.002517</td>\n",
              "      <td>0.003433</td>\n",
              "      <td>-0.000438</td>\n",
              "      <td>0.001228</td>\n",
              "      <td>1.000000</td>\n",
              "      <td>0.003420</td>\n",
              "    </tr>\n",
              "    <tr>\n",
              "      <th>LUNG_CANCER</th>\n",
              "      <td>0.007253</td>\n",
              "      <td>-0.003676</td>\n",
              "      <td>-0.003004</td>\n",
              "      <td>-0.002730</td>\n",
              "      <td>0.004595</td>\n",
              "      <td>-0.008138</td>\n",
              "      <td>0.005324</td>\n",
              "      <td>-0.000466</td>\n",
              "      <td>-0.001739</td>\n",
              "      <td>0.000305</td>\n",
              "      <td>-0.002227</td>\n",
              "      <td>-0.007468</td>\n",
              "      <td>0.003803</td>\n",
              "      <td>0.001841</td>\n",
              "      <td>0.003420</td>\n",
              "      <td>1.000000</td>\n",
              "    </tr>\n",
              "  </tbody>\n",
              "</table>\n",
              "</div>\n",
              "      <button class=\"colab-df-convert\" onclick=\"convertToInteractive('df-8db72084-ca51-46fa-92f3-c90d75a7a6da')\"\n",
              "              title=\"Convert this dataframe to an interactive table.\"\n",
              "              style=\"display:none;\">\n",
              "        \n",
              "  <svg xmlns=\"http://www.w3.org/2000/svg\" height=\"24px\"viewBox=\"0 0 24 24\"\n",
              "       width=\"24px\">\n",
              "    <path d=\"M0 0h24v24H0V0z\" fill=\"none\"/>\n",
              "    <path d=\"M18.56 5.44l.94 2.06.94-2.06 2.06-.94-2.06-.94-.94-2.06-.94 2.06-2.06.94zm-11 1L8.5 8.5l.94-2.06 2.06-.94-2.06-.94L8.5 2.5l-.94 2.06-2.06.94zm10 10l.94 2.06.94-2.06 2.06-.94-2.06-.94-.94-2.06-.94 2.06-2.06.94z\"/><path d=\"M17.41 7.96l-1.37-1.37c-.4-.4-.92-.59-1.43-.59-.52 0-1.04.2-1.43.59L10.3 9.45l-7.72 7.72c-.78.78-.78 2.05 0 2.83L4 21.41c.39.39.9.59 1.41.59.51 0 1.02-.2 1.41-.59l7.78-7.78 2.81-2.81c.8-.78.8-2.07 0-2.86zM5.41 20L4 18.59l7.72-7.72 1.47 1.35L5.41 20z\"/>\n",
              "  </svg>\n",
              "      </button>\n",
              "      \n",
              "  <style>\n",
              "    .colab-df-container {\n",
              "      display:flex;\n",
              "      flex-wrap:wrap;\n",
              "      gap: 12px;\n",
              "    }\n",
              "\n",
              "    .colab-df-convert {\n",
              "      background-color: #E8F0FE;\n",
              "      border: none;\n",
              "      border-radius: 50%;\n",
              "      cursor: pointer;\n",
              "      display: none;\n",
              "      fill: #1967D2;\n",
              "      height: 32px;\n",
              "      padding: 0 0 0 0;\n",
              "      width: 32px;\n",
              "    }\n",
              "\n",
              "    .colab-df-convert:hover {\n",
              "      background-color: #E2EBFA;\n",
              "      box-shadow: 0px 1px 2px rgba(60, 64, 67, 0.3), 0px 1px 3px 1px rgba(60, 64, 67, 0.15);\n",
              "      fill: #174EA6;\n",
              "    }\n",
              "\n",
              "    [theme=dark] .colab-df-convert {\n",
              "      background-color: #3B4455;\n",
              "      fill: #D2E3FC;\n",
              "    }\n",
              "\n",
              "    [theme=dark] .colab-df-convert:hover {\n",
              "      background-color: #434B5C;\n",
              "      box-shadow: 0px 1px 3px 1px rgba(0, 0, 0, 0.15);\n",
              "      filter: drop-shadow(0px 1px 2px rgba(0, 0, 0, 0.3));\n",
              "      fill: #FFFFFF;\n",
              "    }\n",
              "  </style>\n",
              "\n",
              "      <script>\n",
              "        const buttonEl =\n",
              "          document.querySelector('#df-8db72084-ca51-46fa-92f3-c90d75a7a6da button.colab-df-convert');\n",
              "        buttonEl.style.display =\n",
              "          google.colab.kernel.accessAllowed ? 'block' : 'none';\n",
              "\n",
              "        async function convertToInteractive(key) {\n",
              "          const element = document.querySelector('#df-8db72084-ca51-46fa-92f3-c90d75a7a6da');\n",
              "          const dataTable =\n",
              "            await google.colab.kernel.invokeFunction('convertToInteractive',\n",
              "                                                     [key], {});\n",
              "          if (!dataTable) return;\n",
              "\n",
              "          const docLinkHtml = 'Like what you see? Visit the ' +\n",
              "            '<a target=\"_blank\" href=https://colab.research.google.com/notebooks/data_table.ipynb>data table notebook</a>'\n",
              "            + ' to learn more about interactive tables.';\n",
              "          element.innerHTML = '';\n",
              "          dataTable['output_type'] = 'display_data';\n",
              "          await google.colab.output.renderOutput(dataTable, element);\n",
              "          const docLink = document.createElement('div');\n",
              "          docLink.innerHTML = docLinkHtml;\n",
              "          element.appendChild(docLink);\n",
              "        }\n",
              "      </script>\n",
              "    </div>\n",
              "  </div>\n",
              "  "
            ]
          },
          "metadata": {},
          "execution_count": 153
        }
      ]
    },
    {
      "cell_type": "markdown",
      "source": [
        "**4. Which independent variables are useful to predict a target (dependent variable)?**\n",
        "\n",
        "Ans: The 3 methods used to identify useful independent variables are: \n",
        "\n",
        "1)Logistic regression : Greater coefficient in both positive and negative direction has more influence on target variable. Therefore, according to this method, the most essential features are **CHEST_PAIN** and **PEER PRESSURE**.\n",
        "\n",
        "2)RandomForestClassifier : The feature importance of each of the variables can be obtained using the Random Forest approach. In order to predict the dependent variable, this strategy prioritizes **AGE**, **FATIGUE**, and **ALLERGY**.\n",
        "\n",
        "3)XGBClassifier : While calculating feature importance, XGBoost captures the relationship between various factors. It is usually far more accurate than Random Forest in terms of feature importance. According to this method, **AGE**, **SMOKING**, **ANXIETY** have importance in the order mentioned."
      ],
      "metadata": {
        "id": "ujZ9OME_duGZ"
      }
    },
    {
      "cell_type": "code",
      "source": [
        "# fit Logistic Regression model to training data\n",
        "lr = LogisticRegression()\n",
        "lr_fit = lr.fit(x_train,y_train)\n",
        "\n",
        "# fit Random Forest model to training data\n",
        "model = RandomForestClassifier(n_estimators = 100)\n",
        "model.fit(x_train, y_train)\n",
        "\n",
        "# fit XGBoost model to training data\n",
        "xgb_model = XGBClassifier(random_state = 0 )\n",
        "xgb_model.fit(x_train, y_train)"
      ],
      "metadata": {
        "colab": {
          "base_uri": "https://localhost:8080/"
        },
        "id": "pf1dJydS3w-i",
        "outputId": "93ab0d46-7767-4cf7-b3f3-135a6279fd71"
      },
      "execution_count": 154,
      "outputs": [
        {
          "output_type": "execute_result",
          "data": {
            "text/plain": [
              "XGBClassifier()"
            ]
          },
          "metadata": {},
          "execution_count": 154
        }
      ]
    },
    {
      "cell_type": "code",
      "source": [
        "importances = pd.DataFrame(data={\n",
        "    'Attribute': x_train.columns,\n",
        "    'Importance': lr.coef_[0]\n",
        "})\n",
        "importances = importances.sort_values(by='Importance', ascending=False)\n",
        "\n",
        "plt.bar(x=importances['Attribute'], height=importances['Importance'], color='#087E8B')\n",
        "plt.title('Logistic Regression: Feature importances obtained from coefficients', size=20)\n",
        "plt.xticks(rotation='vertical')\n",
        "plt.show()"
      ],
      "metadata": {
        "colab": {
          "base_uri": "https://localhost:8080/",
          "height": 406
        },
        "id": "XXhLHWXF-0pJ",
        "outputId": "d1908c46-2f2a-4c50-df52-f192267d3deb"
      },
      "execution_count": 155,
      "outputs": [
        {
          "output_type": "display_data",
          "data": {
            "text/plain": [
              "<Figure size 432x288 with 1 Axes>"
            ],
            "image/png": "[encoded data removed]"
          },
          "metadata": {
            "needs_background": "light"
          }
        }
      ]
    },
    {
      "cell_type": "code",
      "source": [
        "print(\"XGBOOST Feature Importances : \", xgb_model.feature_importances_)\n",
        "\n",
        "# plot feature importance\n",
        "plot_importance(xgb_model)\n",
        "plt.show()"
      ],
      "metadata": {
        "colab": {
          "base_uri": "https://localhost:8080/",
          "height": 347
        },
        "id": "ifHF5mrDiyQC",
        "outputId": "c1e230f9-9a57-4f5e-b2ee-93335514e2c2"
      },
      "execution_count": 156,
      "outputs": [
        {
          "output_type": "stream",
          "name": "stdout",
          "text": [
            "XGBOOST Feature Importances :  [0.05659812 0.07645325 0.05696076 0.07710505 0.08343842 0.05501546\n",
            " 0.03039381 0.11074726 0.07164478 0.05831063 0.08851107 0.03729019\n",
            " 0.05076251 0.061315   0.08545371]\n"
          ]
        },
        {
          "output_type": "display_data",
          "data": {
            "text/plain": [
              "<Figure size 432x288 with 1 Axes>"
            ],
            "image/png": "[encoded data removed]"
          },
          "metadata": {
            "needs_background": "light"
          }
        }
      ]
    },
    {
      "cell_type": "code",
      "source": [
        "importances = model.feature_importances_\n",
        "std = np.std([tree.feature_importances_ for tree in model.estimators_], axis = 0)\n",
        "\n",
        "indices = np.argsort(importances)[::-1]\n",
        "\n",
        "print('Random Forest Feature Ranking:')\n",
        "\n",
        "for f in range(x_train.shape[1]):\n",
        "  print('%d. %s (%f)'% (f+1, x_train.columns[indices[f]], importances[indices[f]]))\n",
        "\n",
        "# plot feature importance\n",
        "plt.barh(x_train.columns , importances)"
      ],
      "metadata": {
        "colab": {
          "base_uri": "https://localhost:8080/",
          "height": 560
        },
        "id": "G02iweB_G26a",
        "outputId": "10180efe-0d62-46b1-8b55-3646958eb584"
      },
      "execution_count": 157,
      "outputs": [
        {
          "output_type": "stream",
          "name": "stdout",
          "text": [
            "Random Forest Feature Ranking:\n",
            "1. AGE (0.501808)\n",
            "2. FATIGUE (0.040615)\n",
            "3. ALLERGY (0.038477)\n",
            "4. YELLOW_FINGERS (0.037769)\n",
            "5. WHEEZING (0.037363)\n",
            "6. ALCOHOL_CONSUMING (0.036905)\n",
            "7. CHRONIC_DISEASE (0.036670)\n",
            "8. SWALLOWING_DIFFICULTY (0.036369)\n",
            "9. SMOKING (0.036218)\n",
            "10. ANXIETY (0.036100)\n",
            "11. SHORTNESS_OF_BREATH (0.035689)\n",
            "12. COUGHING (0.033740)\n",
            "13. GENDER (0.033390)\n",
            "14. PEER_PRESSURE (0.029651)\n",
            "15. CHEST_PAIN (0.029237)\n"
          ]
        },
        {
          "output_type": "execute_result",
          "data": {
            "text/plain": [
              "<BarContainer object of 15 artists>"
            ]
          },
          "metadata": {},
          "execution_count": 157
        },
        {
          "output_type": "display_data",
          "data": {
            "text/plain": [
              "<Figure size 432x288 with 1 Axes>"
            ],
            "image/png": "[encoded data removed]"
          },
          "metadata": {
            "needs_background": "light"
          }
        }
      ]
    },
    {
      "cell_type": "markdown",
      "source": [
        "**8. Which predictor variables are the most important?**\n",
        "\n",
        "Ans: As per the below plot, WHEEZING, FATIGUE, SMOKING has higher p-value, it says that these variables are independent of the repsone and can not be considered for model training. Whereas, GENDER, AGE, PEER_PRESSURE are most important predictor variables."
      ],
      "metadata": {
        "id": "wSOPdThYmY0V"
      }
    },
    {
      "cell_type": "code",
      "source": [
        "from sklearn.feature_selection import chi2\n",
        "chi_scores = chi2(x_train,y_train)"
      ],
      "metadata": {
        "id": "yP6ZiZ6PmXDo"
      },
      "execution_count": 158,
      "outputs": []
    },
    {
      "cell_type": "code",
      "source": [
        "p_values = pd.Series(chi_scores[1],index = x_train.columns)\n",
        "p_values.sort_values(ascending = False , inplace = True)"
      ],
      "metadata": {
        "id": "8_yszoHYmqWQ"
      },
      "execution_count": 159,
      "outputs": []
    },
    {
      "cell_type": "code",
      "source": [
        "plt.figure(figsize=(16, 12))\n",
        "p_values.plot.bar()"
      ],
      "metadata": {
        "colab": {
          "base_uri": "https://localhost:8080/",
          "height": 836
        },
        "id": "4_r9oEJ3mrAs",
        "outputId": "62fa8e46-1b4a-44c3-890a-f30b8dac9c3a"
      },
      "execution_count": 160,
      "outputs": [
        {
          "output_type": "execute_result",
          "data": {
            "text/plain": [
              "<matplotlib.axes._subplots.AxesSubplot at 0x7f42963626d0>"
            ]
          },
          "metadata": {},
          "execution_count": 160
        },
        {
          "output_type": "display_data",
          "data": {
            "text/plain": [
              "<Figure size 1152x864 with 1 Axes>"
            ],
            "image/png": "[encoded data removed]"
          },
          "metadata": {
            "needs_background": "light"
          }
        }
      ]
    },
    {
      "cell_type": "code",
      "source": [
        "predictions=lr.predict(x_test)"
      ],
      "metadata": {
        "id": "9MSjCXbp3xCK"
      },
      "execution_count": 161,
      "outputs": []
    },
    {
      "cell_type": "code",
      "source": [
        "rf_predictions=model.predict(x_test)"
      ],
      "metadata": {
        "id": "G75WxTb3n1CF"
      },
      "execution_count": 162,
      "outputs": []
    },
    {
      "cell_type": "code",
      "source": [
        "xgb_predictions=xgb_model.predict(x_test)"
      ],
      "metadata": {
        "id": "VTdP4_tPn05c"
      },
      "execution_count": 163,
      "outputs": []
    },
    {
      "cell_type": "markdown",
      "source": [
        "**13. For categorical data, calculate the accuracy and a confusion matrix.**\n",
        "\n",
        "Ans: The F score is a metric for how accurate a model is on a given dataset. Below is the calculated F score **0.491, 0.501, 0.490** for all 3 methods used i.e. Logistic Regression, Random Forest Classifier and XGBoost respectively."
      ],
      "metadata": {
        "id": "PwkI7tGxUUE9"
      }
    },
    {
      "cell_type": "code",
      "source": [
        "Logistic_F_Score = lr_fit.score(x_test, y_test)\n",
        "print('Logistic F Score:',lr_fit.score(x_test, y_test))\n",
        "#print('LASSO F Score:',lasso2_fit.score(X_test, y_test))\n",
        "#print('Ridge F Score:',ridge2_fit.score(x_test, y_test))\n",
        "\n",
        "RandomForestClassifier_F_Score = model.score(x_test, y_test)\n",
        "print('Random Forest Classifier F Score:',model.score(x_test, y_test))\n",
        "\n",
        "XGBOOST_F_Score = xgb_model.score(x_test, y_test)\n",
        "print('XGBOOST F Score:',xgb_model.score(x_test, y_test))\n",
        "#print('Neural Net F Score:',clf_fit.score(x_test, y_test))"
      ],
      "metadata": {
        "colab": {
          "base_uri": "https://localhost:8080/"
        },
        "id": "clJYCaIF3xFS",
        "outputId": "85294bbc-f732-41b4-a0f7-3ec13f7ce3d6"
      },
      "execution_count": 164,
      "outputs": [
        {
          "output_type": "stream",
          "name": "stdout",
          "text": [
            "Logistic F Score: 0.49119956674790144\n",
            "Random Forest Classifier F Score: 0.5014893040888166\n",
            "XGBOOST F Score: 0.49038721906309235\n"
          ]
        }
      ]
    },
    {
      "cell_type": "markdown",
      "source": [
        "**Confusion Matrix**"
      ],
      "metadata": {
        "id": "ptKcQ1x0WOPS"
      }
    },
    {
      "cell_type": "code",
      "source": [
        "cm = metrics.confusion_matrix(y_test,predictions)\n",
        "print(cm)"
      ],
      "metadata": {
        "colab": {
          "base_uri": "https://localhost:8080/"
        },
        "id": "Iimv3JT44lcV",
        "outputId": "db285d68-d878-427c-9d75-8edfe21986d6"
      },
      "execution_count": 165,
      "outputs": [
        {
          "output_type": "stream",
          "name": "stdout",
          "text": [
            "[[3741 1745]\n",
            " [3892 1701]]\n"
          ]
        }
      ]
    },
    {
      "cell_type": "code",
      "source": [
        "rf_cm = metrics.confusion_matrix(y_test,rf_predictions)\n",
        "print(rf_cm)"
      ],
      "metadata": {
        "colab": {
          "base_uri": "https://localhost:8080/"
        },
        "id": "2bfw48DCoPRC",
        "outputId": "0b7b8358-078f-4fc7-c137-1ec4758f2a1f"
      },
      "execution_count": 166,
      "outputs": [
        {
          "output_type": "stream",
          "name": "stdout",
          "text": [
            "[[2905 2581]\n",
            " [2942 2651]]\n"
          ]
        }
      ]
    },
    {
      "cell_type": "code",
      "source": [
        "xgb_cm = metrics.confusion_matrix(y_test,xgb_predictions)\n",
        "print(xgb_cm)"
      ],
      "metadata": {
        "colab": {
          "base_uri": "https://localhost:8080/"
        },
        "id": "1TAklyoJoPZi",
        "outputId": "cbb26965-0bed-4aab-e92d-b67489b3039c"
      },
      "execution_count": 167,
      "outputs": [
        {
          "output_type": "stream",
          "name": "stdout",
          "text": [
            "[[3452 2034]\n",
            " [3612 1981]]\n"
          ]
        }
      ]
    },
    {
      "cell_type": "code",
      "source": [
        "plt.figure(figsize=(9,9))\n",
        "sns.heatmap(cm, annot=True, fmt=\".3f\", linewidth=.5, square = True, cmap='Blues_r');\n",
        "plt.ylabel('Actual label');\n",
        "plt.xlabel('Predicted label');\n",
        "all_sample_title='Logistic Regression Accuracy Score: {0}'.format(Logistic_F_Score)\n",
        "plt.title(all_sample_title, size = 15);"
      ],
      "metadata": {
        "colab": {
          "base_uri": "https://localhost:8080/",
          "height": 520
        },
        "id": "6dil_Z-q4lf_",
        "outputId": "9a20366d-0f40-48c6-da6a-30a96ee1bb6a"
      },
      "execution_count": 168,
      "outputs": [
        {
          "output_type": "display_data",
          "data": {
            "text/plain": [
              "<Figure size 648x648 with 2 Axes>"
            ],
            "image/png": "[encoded data removed]"
          },
          "metadata": {
            "needs_background": "light"
          }
        }
      ]
    },
    {
      "cell_type": "code",
      "source": [
        "plt.figure(figsize=(9,9))\n",
        "sns.heatmap(rf_cm, annot=True, fmt=\".3f\", linewidth=.5, square = True, cmap='Blues_r');\n",
        "plt.ylabel('Actual label');\n",
        "plt.xlabel('Predicted label');\n",
        "all_sample_title='Random Forest Accuracy Score: {0}'.format(RandomForestClassifier_F_Score)\n",
        "plt.title(all_sample_title, size = 15);"
      ],
      "metadata": {
        "id": "uvpIigTZUBDo",
        "colab": {
          "base_uri": "https://localhost:8080/",
          "height": 520
        },
        "outputId": "4a6a111b-cc4a-4472-fc31-1aff3edc198f"
      },
      "execution_count": 169,
      "outputs": [
        {
          "output_type": "display_data",
          "data": {
            "text/plain": [
              "<Figure size 648x648 with 2 Axes>"
            ],
            "image/png": "[encoded data removed]"
          },
          "metadata": {
            "needs_background": "light"
          }
        }
      ]
    },
    {
      "cell_type": "code",
      "source": [
        "plt.figure(figsize=(9,9))\n",
        "sns.heatmap(xgb_cm, annot=True, fmt=\".3f\", linewidth=.5, square = True, cmap='Blues_r');\n",
        "plt.ylabel('Actual label');\n",
        "plt.xlabel('Predicted label');\n",
        "all_sample_title='XGBoost Accuracy Score: {0}'.format(XGBOOST_F_Score)\n",
        "plt.title(all_sample_title, size = 15);"
      ],
      "metadata": {
        "colab": {
          "base_uri": "https://localhost:8080/",
          "height": 521
        },
        "id": "6F4mQgCmpJUi",
        "outputId": "6aed160d-bf48-4f4c-eaf9-8534defcfc64"
      },
      "execution_count": 170,
      "outputs": [
        {
          "output_type": "display_data",
          "data": {
            "text/plain": [
              "<Figure size 648x648 with 2 Axes>"
            ],
            "image/png": "[encoded data removed]"
          },
          "metadata": {
            "needs_background": "light"
          }
        }
      ]
    },
    {
      "cell_type": "markdown",
      "source": [
        "**11. Remove outliers and keep outliers (does if have an effect of the final predictive model)?**\n",
        "\n",
        "Ans: There are no outliers in the dataset, as seen in the box plots above for all predictor variables (except AGE) versus LUNG CANCER (target variable), as all values are between 0 and 1. Furthermore, there are no outliers in the box plot of AGE vs LUNG CANCER given below."
      ],
      "metadata": {
        "id": "VOivJwJ4qcIU"
      }
    },
    {
      "cell_type": "code",
      "source": [
        "sns.boxplot(data=lung_df,x='LUNG_CANCER',y='AGE')"
      ],
      "metadata": {
        "colab": {
          "base_uri": "https://localhost:8080/",
          "height": 300
        },
        "id": "8pFhNa3tqrnv",
        "outputId": "7e2d8e9e-0c91-4e08-d061-6f1430b6a4b7"
      },
      "execution_count": 171,
      "outputs": [
        {
          "output_type": "execute_result",
          "data": {
            "text/plain": [
              "<matplotlib.axes._subplots.AxesSubplot at 0x7f4296083150>"
            ]
          },
          "metadata": {},
          "execution_count": 171
        },
        {
          "output_type": "display_data",
          "data": {
            "text/plain": [
              "<Figure size 432x288 with 1 Axes>"
            ],
            "image/png": "[encoded data removed]"
          },
          "metadata": {
            "needs_background": "light"
          }
        }
      ]
    },
    {
      "cell_type": "markdown",
      "source": [
        "**Create Missing data:**"
      ],
      "metadata": {
        "id": "fh8YzA_Vj_Dc"
      }
    },
    {
      "cell_type": "code",
      "source": [
        "df_AGE = lung_df[['AGE']]\n",
        "df_AGE['AGE_copy_1_percent'] = df_AGE[['AGE']]\n",
        "df_AGE['AGE_copy_5_percent'] = df_AGE[['AGE']]\n",
        "df_AGE['AGE_copy_10_percent'] = df_AGE[['AGE']]\n",
        "df_AGE['sample_num'] = df_AGE[['AGE']]\n",
        "df_AGE"
      ],
      "metadata": {
        "colab": {
          "base_uri": "https://localhost:8080/",
          "height": 840
        },
        "id": "guFickoWsZ_V",
        "outputId": "a0e98914-da4e-4d95-c631-409994378bd6"
      },
      "execution_count": 183,
      "outputs": [
        {
          "output_type": "stream",
          "name": "stderr",
          "text": [
            "/usr/local/lib/python3.7/dist-packages/ipykernel_launcher.py:2: SettingWithCopyWarning: \n",
            "A value is trying to be set on a copy of a slice from a DataFrame.\n",
            "Try using .loc[row_indexer,col_indexer] = value instead\n",
            "\n",
            "See the caveats in the documentation: https://pandas.pydata.org/pandas-docs/stable/user_guide/indexing.html#returning-a-view-versus-a-copy\n",
            "  \n",
            "/usr/local/lib/python3.7/dist-packages/ipykernel_launcher.py:3: SettingWithCopyWarning: \n",
            "A value is trying to be set on a copy of a slice from a DataFrame.\n",
            "Try using .loc[row_indexer,col_indexer] = value instead\n",
            "\n",
            "See the caveats in the documentation: https://pandas.pydata.org/pandas-docs/stable/user_guide/indexing.html#returning-a-view-versus-a-copy\n",
            "  This is separate from the ipykernel package so we can avoid doing imports until\n",
            "/usr/local/lib/python3.7/dist-packages/ipykernel_launcher.py:4: SettingWithCopyWarning: \n",
            "A value is trying to be set on a copy of a slice from a DataFrame.\n",
            "Try using .loc[row_indexer,col_indexer] = value instead\n",
            "\n",
            "See the caveats in the documentation: https://pandas.pydata.org/pandas-docs/stable/user_guide/indexing.html#returning-a-view-versus-a-copy\n",
            "  after removing the cwd from sys.path.\n",
            "/usr/local/lib/python3.7/dist-packages/ipykernel_launcher.py:5: SettingWithCopyWarning: \n",
            "A value is trying to be set on a copy of a slice from a DataFrame.\n",
            "Try using .loc[row_indexer,col_indexer] = value instead\n",
            "\n",
            "See the caveats in the documentation: https://pandas.pydata.org/pandas-docs/stable/user_guide/indexing.html#returning-a-view-versus-a-copy\n",
            "  \"\"\"\n"
          ]
        },
        {
          "output_type": "execute_result",
          "data": {
            "text/plain": [
              "       AGE  AGE_copy_1_percent  AGE_copy_5_percent  AGE_copy_10_percent  \\\n",
              "0       69                  69                  69                   69   \n",
              "1       74                  74                  74                   74   \n",
              "2       59                  59                  59                   59   \n",
              "3       63                  63                  63                   63   \n",
              "4       63                  63                  63                   63   \n",
              "...    ...                 ...                 ...                  ...   \n",
              "55389   18                  18                  18                   18   \n",
              "55390   60                  60                  60                   60   \n",
              "55391   38                  38                  38                   38   \n",
              "55392   26                  26                  26                   26   \n",
              "55393   61                  61                  61                   61   \n",
              "\n",
              "       sample_num  \n",
              "0              69  \n",
              "1              74  \n",
              "2              59  \n",
              "3              63  \n",
              "4              63  \n",
              "...           ...  \n",
              "55389          18  \n",
              "55390          60  \n",
              "55391          38  \n",
              "55392          26  \n",
              "55393          61  \n",
              "\n",
              "[55394 rows x 5 columns]"
            ],
            "text/html": [
              "\n",
              "  <div id=\"df-ee78cedb-cc44-49e9-a95a-d24cec6dc589\">\n",
              "    <div class=\"colab-df-container\">\n",
              "      <div>\n",
              "<style scoped>\n",
              "    .dataframe tbody tr th:only-of-type {\n",
              "        vertical-align: middle;\n",
              "    }\n",
              "\n",
              "    .dataframe tbody tr th {\n",
              "        vertical-align: top;\n",
              "    }\n",
              "\n",
              "    .dataframe thead th {\n",
              "        text-align: right;\n",
              "    }\n",
              "</style>\n",
              "<table border=\"1\" class=\"dataframe\">\n",
              "  <thead>\n",
              "    <tr style=\"text-align: right;\">\n",
              "      <th></th>\n",
              "      <th>AGE</th>\n",
              "      <th>AGE_copy_1_percent</th>\n",
              "      <th>AGE_copy_5_percent</th>\n",
              "      <th>AGE_copy_10_percent</th>\n",
              "      <th>sample_num</th>\n",
              "    </tr>\n",
              "  </thead>\n",
              "  <tbody>\n",
              "    <tr>\n",
              "      <th>0</th>\n",
              "      <td>69</td>\n",
              "      <td>69</td>\n",
              "      <td>69</td>\n",
              "      <td>69</td>\n",
              "      <td>69</td>\n",
              "    </tr>\n",
              "    <tr>\n",
              "      <th>1</th>\n",
              "      <td>74</td>\n",
              "      <td>74</td>\n",
              "      <td>74</td>\n",
              "      <td>74</td>\n",
              "      <td>74</td>\n",
              "    </tr>\n",
              "    <tr>\n",
              "      <th>2</th>\n",
              "      <td>59</td>\n",
              "      <td>59</td>\n",
              "      <td>59</td>\n",
              "      <td>59</td>\n",
              "      <td>59</td>\n",
              "    </tr>\n",
              "    <tr>\n",
              "      <th>3</th>\n",
              "      <td>63</td>\n",
              "      <td>63</td>\n",
              "      <td>63</td>\n",
              "      <td>63</td>\n",
              "      <td>63</td>\n",
              "    </tr>\n",
              "    <tr>\n",
              "      <th>4</th>\n",
              "      <td>63</td>\n",
              "      <td>63</td>\n",
              "      <td>63</td>\n",
              "      <td>63</td>\n",
              "      <td>63</td>\n",
              "    </tr>\n",
              "    <tr>\n",
              "      <th>...</th>\n",
              "      <td>...</td>\n",
              "      <td>...</td>\n",
              "      <td>...</td>\n",
              "      <td>...</td>\n",
              "      <td>...</td>\n",
              "    </tr>\n",
              "    <tr>\n",
              "      <th>55389</th>\n",
              "      <td>18</td>\n",
              "      <td>18</td>\n",
              "      <td>18</td>\n",
              "      <td>18</td>\n",
              "      <td>18</td>\n",
              "    </tr>\n",
              "    <tr>\n",
              "      <th>55390</th>\n",
              "      <td>60</td>\n",
              "      <td>60</td>\n",
              "      <td>60</td>\n",
              "      <td>60</td>\n",
              "      <td>60</td>\n",
              "    </tr>\n",
              "    <tr>\n",
              "      <th>55391</th>\n",
              "      <td>38</td>\n",
              "      <td>38</td>\n",
              "      <td>38</td>\n",
              "      <td>38</td>\n",
              "      <td>38</td>\n",
              "    </tr>\n",
              "    <tr>\n",
              "      <th>55392</th>\n",
              "      <td>26</td>\n",
              "      <td>26</td>\n",
              "      <td>26</td>\n",
              "      <td>26</td>\n",
              "      <td>26</td>\n",
              "    </tr>\n",
              "    <tr>\n",
              "      <th>55393</th>\n",
              "      <td>61</td>\n",
              "      <td>61</td>\n",
              "      <td>61</td>\n",
              "      <td>61</td>\n",
              "      <td>61</td>\n",
              "    </tr>\n",
              "  </tbody>\n",
              "</table>\n",
              "<p>55394 rows × 5 columns</p>\n",
              "</div>\n",
              "      <button class=\"colab-df-convert\" onclick=\"convertToInteractive('df-ee78cedb-cc44-49e9-a95a-d24cec6dc589')\"\n",
              "              title=\"Convert this dataframe to an interactive table.\"\n",
              "              style=\"display:none;\">\n",
              "        \n",
              "  <svg xmlns=\"http://www.w3.org/2000/svg\" height=\"24px\"viewBox=\"0 0 24 24\"\n",
              "       width=\"24px\">\n",
              "    <path d=\"M0 0h24v24H0V0z\" fill=\"none\"/>\n",
              "    <path d=\"M18.56 5.44l.94 2.06.94-2.06 2.06-.94-2.06-.94-.94-2.06-.94 2.06-2.06.94zm-11 1L8.5 8.5l.94-2.06 2.06-.94-2.06-.94L8.5 2.5l-.94 2.06-2.06.94zm10 10l.94 2.06.94-2.06 2.06-.94-2.06-.94-.94-2.06-.94 2.06-2.06.94z\"/><path d=\"M17.41 7.96l-1.37-1.37c-.4-.4-.92-.59-1.43-.59-.52 0-1.04.2-1.43.59L10.3 9.45l-7.72 7.72c-.78.78-.78 2.05 0 2.83L4 21.41c.39.39.9.59 1.41.59.51 0 1.02-.2 1.41-.59l7.78-7.78 2.81-2.81c.8-.78.8-2.07 0-2.86zM5.41 20L4 18.59l7.72-7.72 1.47 1.35L5.41 20z\"/>\n",
              "  </svg>\n",
              "      </button>\n",
              "      \n",
              "  <style>\n",
              "    .colab-df-container {\n",
              "      display:flex;\n",
              "      flex-wrap:wrap;\n",
              "      gap: 12px;\n",
              "    }\n",
              "\n",
              "    .colab-df-convert {\n",
              "      background-color: #E8F0FE;\n",
              "      border: none;\n",
              "      border-radius: 50%;\n",
              "      cursor: pointer;\n",
              "      display: none;\n",
              "      fill: #1967D2;\n",
              "      height: 32px;\n",
              "      padding: 0 0 0 0;\n",
              "      width: 32px;\n",
              "    }\n",
              "\n",
              "    .colab-df-convert:hover {\n",
              "      background-color: #E2EBFA;\n",
              "      box-shadow: 0px 1px 2px rgba(60, 64, 67, 0.3), 0px 1px 3px 1px rgba(60, 64, 67, 0.15);\n",
              "      fill: #174EA6;\n",
              "    }\n",
              "\n",
              "    [theme=dark] .colab-df-convert {\n",
              "      background-color: #3B4455;\n",
              "      fill: #D2E3FC;\n",
              "    }\n",
              "\n",
              "    [theme=dark] .colab-df-convert:hover {\n",
              "      background-color: #434B5C;\n",
              "      box-shadow: 0px 1px 3px 1px rgba(0, 0, 0, 0.15);\n",
              "      filter: drop-shadow(0px 1px 2px rgba(0, 0, 0, 0.3));\n",
              "      fill: #FFFFFF;\n",
              "    }\n",
              "  </style>\n",
              "\n",
              "      <script>\n",
              "        const buttonEl =\n",
              "          document.querySelector('#df-ee78cedb-cc44-49e9-a95a-d24cec6dc589 button.colab-df-convert');\n",
              "        buttonEl.style.display =\n",
              "          google.colab.kernel.accessAllowed ? 'block' : 'none';\n",
              "\n",
              "        async function convertToInteractive(key) {\n",
              "          const element = document.querySelector('#df-ee78cedb-cc44-49e9-a95a-d24cec6dc589');\n",
              "          const dataTable =\n",
              "            await google.colab.kernel.invokeFunction('convertToInteractive',\n",
              "                                                     [key], {});\n",
              "          if (!dataTable) return;\n",
              "\n",
              "          const docLinkHtml = 'Like what you see? Visit the ' +\n",
              "            '<a target=\"_blank\" href=https://colab.research.google.com/notebooks/data_table.ipynb>data table notebook</a>'\n",
              "            + ' to learn more about interactive tables.';\n",
              "          element.innerHTML = '';\n",
              "          dataTable['output_type'] = 'display_data';\n",
              "          await google.colab.output.renderOutput(dataTable, element);\n",
              "          const docLink = document.createElement('div');\n",
              "          docLink.innerHTML = docLinkHtml;\n",
              "          element.appendChild(docLink);\n",
              "        }\n",
              "      </script>\n",
              "    </div>\n",
              "  </div>\n",
              "  "
            ]
          },
          "metadata": {},
          "execution_count": 183
        }
      ]
    },
    {
      "cell_type": "code",
      "source": [
        "def get_percent_missing(dataframe):\n",
        "    \n",
        "    percent_missing = dataframe.isnull().sum() * 100 / len(dataframe)\n",
        "    missing_value_df = pd.DataFrame({'column_name': dataframe.columns,\n",
        "                                     'percent_missing': percent_missing})\n",
        "    return missing_value_df"
      ],
      "metadata": {
        "id": "Bc9YkIkq4mvO"
      },
      "execution_count": 184,
      "outputs": []
    },
    {
      "cell_type": "code",
      "source": [
        "print(get_percent_missing(df_AGE))"
      ],
      "metadata": {
        "colab": {
          "base_uri": "https://localhost:8080/"
        },
        "id": "zvY4e67Wgtoj",
        "outputId": "8dbe9e24-ec00-43e3-e539-ceef9018388c"
      },
      "execution_count": 185,
      "outputs": [
        {
          "output_type": "stream",
          "name": "stdout",
          "text": [
            "                             column_name  percent_missing\n",
            "AGE                                  AGE              0.0\n",
            "AGE_copy_1_percent    AGE_copy_1_percent              0.0\n",
            "AGE_copy_5_percent    AGE_copy_5_percent              0.0\n",
            "AGE_copy_10_percent  AGE_copy_10_percent              0.0\n",
            "sample_num                    sample_num              0.0\n"
          ]
        }
      ]
    },
    {
      "cell_type": "code",
      "source": [
        "def create_missing(dataframe, percent, col):\n",
        "    dataframe.loc[dataframe.sample(frac = percent).index, col] = np.nan"
      ],
      "metadata": {
        "id": "of48JBw-g0hH"
      },
      "execution_count": 177,
      "outputs": []
    },
    {
      "cell_type": "code",
      "source": [
        "create_missing(df_AGE, 0.01, 'AGE_copy_1_percent')\n",
        "create_missing(df_AGE, 0.05, 'AGE_copy_5_percent')\n",
        "create_missing(df_AGE, 0.1, 'AGE_copy_10_percent')"
      ],
      "metadata": {
        "colab": {
          "base_uri": "https://localhost:8080/"
        },
        "id": "iOEs4DDwg5IG",
        "outputId": "8fcf42da-09fa-46a2-b7b3-dd1312f9cc86"
      },
      "execution_count": 186,
      "outputs": [
        {
          "output_type": "stream",
          "name": "stderr",
          "text": [
            "/usr/local/lib/python3.7/dist-packages/pandas/core/indexing.py:1817: SettingWithCopyWarning: \n",
            "A value is trying to be set on a copy of a slice from a DataFrame.\n",
            "Try using .loc[row_indexer,col_indexer] = value instead\n",
            "\n",
            "See the caveats in the documentation: https://pandas.pydata.org/pandas-docs/stable/user_guide/indexing.html#returning-a-view-versus-a-copy\n",
            "  self._setitem_single_column(loc, value, pi)\n"
          ]
        }
      ]
    },
    {
      "cell_type": "code",
      "source": [
        "print(get_percent_missing(df_AGE))"
      ],
      "metadata": {
        "colab": {
          "base_uri": "https://localhost:8080/"
        },
        "id": "KMRhXbvQhT2e",
        "outputId": "2085a03c-1e0c-45d6-e386-5eaaad3e181d"
      },
      "execution_count": 187,
      "outputs": [
        {
          "output_type": "stream",
          "name": "stdout",
          "text": [
            "                             column_name  percent_missing\n",
            "AGE                                  AGE         0.000000\n",
            "AGE_copy_1_percent    AGE_copy_1_percent         1.000108\n",
            "AGE_copy_5_percent    AGE_copy_5_percent         5.000542\n",
            "AGE_copy_10_percent  AGE_copy_10_percent         9.999278\n",
            "sample_num                    sample_num         0.000000\n"
          ]
        }
      ]
    },
    {
      "cell_type": "code",
      "source": [
        "number_1_idx = list(np.where(df_AGE['AGE_copy_1_percent'].isna())[0])\n",
        "number_5_idx = list(np.where(df_AGE['AGE_copy_5_percent'].isna())[0])\n",
        "number_10_idx = list(np.where(df_AGE['AGE_copy_10_percent'].isna())[0])"
      ],
      "metadata": {
        "id": "xvZH6fgslNAn"
      },
      "execution_count": 188,
      "outputs": []
    },
    {
      "cell_type": "markdown",
      "source": [
        "**12.Remove 1%, 5%, and 10% of your data randomly and impute the values back using at least 3 imputation methods. How well did the methods recover the missing values?  That is remove some data, check the % error on residuals for numeric data and check for bias and variance of the error.**\n",
        "\n",
        "Ans: Removed 1%, 5%, and 10% of your data randomly and imputed the values back using various imputation methods and observed that the missing values are recovered back by calculating average difference between the actual values and the imputed values."
      ],
      "metadata": {
        "id": "37jXCf3Gq0wa"
      }
    },
    {
      "cell_type": "markdown",
      "source": [
        "**Method1**"
      ],
      "metadata": {
        "id": "NMC3_U6gnacR"
      }
    },
    {
      "cell_type": "code",
      "source": [
        "from sklearn.preprocessing import MinMaxScaler\n",
        "scaler = MinMaxScaler()\n",
        "df_AGE = pd.DataFrame(scaler.fit_transform(df_AGE))\n",
        "df_AGE.head()"
      ],
      "metadata": {
        "colab": {
          "base_uri": "https://localhost:8080/",
          "height": 206
        },
        "id": "cptpFCU-mTMe",
        "outputId": "b69a1cd4-cd8c-4ead-cbc2-885fb5ffdc31"
      },
      "execution_count": 190,
      "outputs": [
        {
          "output_type": "execute_result",
          "data": {
            "text/plain": [
              "          0         1         2         3         4\n",
              "0  0.739130  0.739130  0.809524  0.739130  0.739130\n",
              "1  0.811594  0.811594  0.888889  0.811594  0.811594\n",
              "2  0.594203  0.594203  0.650794  0.594203  0.594203\n",
              "3  0.652174  0.652174  0.714286  0.652174  0.652174\n",
              "4  0.652174  0.652174  0.714286  0.652174  0.652174"
            ],
            "text/html": [
              "\n",
              "  <div id=\"df-6fba26b6-8c4d-48c4-9768-0b125ff53c77\">\n",
              "    <div class=\"colab-df-container\">\n",
              "      <div>\n",
              "<style scoped>\n",
              "    .dataframe tbody tr th:only-of-type {\n",
              "        vertical-align: middle;\n",
              "    }\n",
              "\n",
              "    .dataframe tbody tr th {\n",
              "        vertical-align: top;\n",
              "    }\n",
              "\n",
              "    .dataframe thead th {\n",
              "        text-align: right;\n",
              "    }\n",
              "</style>\n",
              "<table border=\"1\" class=\"dataframe\">\n",
              "  <thead>\n",
              "    <tr style=\"text-align: right;\">\n",
              "      <th></th>\n",
              "      <th>0</th>\n",
              "      <th>1</th>\n",
              "      <th>2</th>\n",
              "      <th>3</th>\n",
              "      <th>4</th>\n",
              "    </tr>\n",
              "  </thead>\n",
              "  <tbody>\n",
              "    <tr>\n",
              "      <th>0</th>\n",
              "      <td>0.739130</td>\n",
              "      <td>0.739130</td>\n",
              "      <td>0.809524</td>\n",
              "      <td>0.739130</td>\n",
              "      <td>0.739130</td>\n",
              "    </tr>\n",
              "    <tr>\n",
              "      <th>1</th>\n",
              "      <td>0.811594</td>\n",
              "      <td>0.811594</td>\n",
              "      <td>0.888889</td>\n",
              "      <td>0.811594</td>\n",
              "      <td>0.811594</td>\n",
              "    </tr>\n",
              "    <tr>\n",
              "      <th>2</th>\n",
              "      <td>0.594203</td>\n",
              "      <td>0.594203</td>\n",
              "      <td>0.650794</td>\n",
              "      <td>0.594203</td>\n",
              "      <td>0.594203</td>\n",
              "    </tr>\n",
              "    <tr>\n",
              "      <th>3</th>\n",
              "      <td>0.652174</td>\n",
              "      <td>0.652174</td>\n",
              "      <td>0.714286</td>\n",
              "      <td>0.652174</td>\n",
              "      <td>0.652174</td>\n",
              "    </tr>\n",
              "    <tr>\n",
              "      <th>4</th>\n",
              "      <td>0.652174</td>\n",
              "      <td>0.652174</td>\n",
              "      <td>0.714286</td>\n",
              "      <td>0.652174</td>\n",
              "      <td>0.652174</td>\n",
              "    </tr>\n",
              "  </tbody>\n",
              "</table>\n",
              "</div>\n",
              "      <button class=\"colab-df-convert\" onclick=\"convertToInteractive('df-6fba26b6-8c4d-48c4-9768-0b125ff53c77')\"\n",
              "              title=\"Convert this dataframe to an interactive table.\"\n",
              "              style=\"display:none;\">\n",
              "        \n",
              "  <svg xmlns=\"http://www.w3.org/2000/svg\" height=\"24px\"viewBox=\"0 0 24 24\"\n",
              "       width=\"24px\">\n",
              "    <path d=\"M0 0h24v24H0V0z\" fill=\"none\"/>\n",
              "    <path d=\"M18.56 5.44l.94 2.06.94-2.06 2.06-.94-2.06-.94-.94-2.06-.94 2.06-2.06.94zm-11 1L8.5 8.5l.94-2.06 2.06-.94-2.06-.94L8.5 2.5l-.94 2.06-2.06.94zm10 10l.94 2.06.94-2.06 2.06-.94-2.06-.94-.94-2.06-.94 2.06-2.06.94z\"/><path d=\"M17.41 7.96l-1.37-1.37c-.4-.4-.92-.59-1.43-.59-.52 0-1.04.2-1.43.59L10.3 9.45l-7.72 7.72c-.78.78-.78 2.05 0 2.83L4 21.41c.39.39.9.59 1.41.59.51 0 1.02-.2 1.41-.59l7.78-7.78 2.81-2.81c.8-.78.8-2.07 0-2.86zM5.41 20L4 18.59l7.72-7.72 1.47 1.35L5.41 20z\"/>\n",
              "  </svg>\n",
              "      </button>\n",
              "      \n",
              "  <style>\n",
              "    .colab-df-container {\n",
              "      display:flex;\n",
              "      flex-wrap:wrap;\n",
              "      gap: 12px;\n",
              "    }\n",
              "\n",
              "    .colab-df-convert {\n",
              "      background-color: #E8F0FE;\n",
              "      border: none;\n",
              "      border-radius: 50%;\n",
              "      cursor: pointer;\n",
              "      display: none;\n",
              "      fill: #1967D2;\n",
              "      height: 32px;\n",
              "      padding: 0 0 0 0;\n",
              "      width: 32px;\n",
              "    }\n",
              "\n",
              "    .colab-df-convert:hover {\n",
              "      background-color: #E2EBFA;\n",
              "      box-shadow: 0px 1px 2px rgba(60, 64, 67, 0.3), 0px 1px 3px 1px rgba(60, 64, 67, 0.15);\n",
              "      fill: #174EA6;\n",
              "    }\n",
              "\n",
              "    [theme=dark] .colab-df-convert {\n",
              "      background-color: #3B4455;\n",
              "      fill: #D2E3FC;\n",
              "    }\n",
              "\n",
              "    [theme=dark] .colab-df-convert:hover {\n",
              "      background-color: #434B5C;\n",
              "      box-shadow: 0px 1px 3px 1px rgba(0, 0, 0, 0.15);\n",
              "      filter: drop-shadow(0px 1px 2px rgba(0, 0, 0, 0.3));\n",
              "      fill: #FFFFFF;\n",
              "    }\n",
              "  </style>\n",
              "\n",
              "      <script>\n",
              "        const buttonEl =\n",
              "          document.querySelector('#df-6fba26b6-8c4d-48c4-9768-0b125ff53c77 button.colab-df-convert');\n",
              "        buttonEl.style.display =\n",
              "          google.colab.kernel.accessAllowed ? 'block' : 'none';\n",
              "\n",
              "        async function convertToInteractive(key) {\n",
              "          const element = document.querySelector('#df-6fba26b6-8c4d-48c4-9768-0b125ff53c77');\n",
              "          const dataTable =\n",
              "            await google.colab.kernel.invokeFunction('convertToInteractive',\n",
              "                                                     [key], {});\n",
              "          if (!dataTable) return;\n",
              "\n",
              "          const docLinkHtml = 'Like what you see? Visit the ' +\n",
              "            '<a target=\"_blank\" href=https://colab.research.google.com/notebooks/data_table.ipynb>data table notebook</a>'\n",
              "            + ' to learn more about interactive tables.';\n",
              "          element.innerHTML = '';\n",
              "          dataTable['output_type'] = 'display_data';\n",
              "          await google.colab.output.renderOutput(dataTable, element);\n",
              "          const docLink = document.createElement('div');\n",
              "          docLink.innerHTML = docLinkHtml;\n",
              "          element.appendChild(docLink);\n",
              "        }\n",
              "      </script>\n",
              "    </div>\n",
              "  </div>\n",
              "  "
            ]
          },
          "metadata": {},
          "execution_count": 190
        }
      ]
    },
    {
      "cell_type": "code",
      "source": [
        "#knn imputer\n",
        "from sklearn.impute import KNNImputer\n",
        "imputer = KNNImputer(n_neighbors=3)\n",
        "df_AGE = pd.DataFrame(imputer.fit_transform(df_AGE))"
      ],
      "metadata": {
        "id": "Xzqy9LFmms-S"
      },
      "execution_count": 191,
      "outputs": []
    },
    {
      "cell_type": "code",
      "source": [
        "#checking for missing values\n",
        "df_AGE.isnull().sum()\n",
        "print('Values are filled with KNN Imputer successfully!')"
      ],
      "metadata": {
        "colab": {
          "base_uri": "https://localhost:8080/"
        },
        "id": "ynKS02w-mtGt",
        "outputId": "8ca03a6a-2695-4b34-f8ff-2a79b77ba6d0"
      },
      "execution_count": 204,
      "outputs": [
        {
          "output_type": "stream",
          "name": "stdout",
          "text": [
            "Values are filled with KNN Imputer successfully!\n"
          ]
        }
      ]
    },
    {
      "cell_type": "code",
      "source": [
        "#Calculating average difference between the actual values and the imputed values\n",
        "print('Variance in 1% imputation column is - ', df_AGE[0].mean() - df_AGE[1].mean())\n",
        "print('Variance in 5% imputation column is - ', df_AGE[0].mean() - df_AGE[2].mean())\n",
        "print('Variance in 10% imputation column is - ', df_AGE[0].mean() - df_AGE[3].mean())"
      ],
      "metadata": {
        "colab": {
          "base_uri": "https://localhost:8080/"
        },
        "id": "QDFh2brem81h",
        "outputId": "aad95162-5841-4425-86d4-714fa14ec035"
      },
      "execution_count": 196,
      "outputs": [
        {
          "output_type": "stream",
          "name": "stdout",
          "text": [
            "Variance in 1% imputation column is -  0.0\n",
            "Variance in 5% imputation column is -  -0.03607466080718308\n",
            "Variance in 10% imputation column is -  1.744202576814402e-07\n"
          ]
        }
      ]
    },
    {
      "cell_type": "markdown",
      "source": [
        "**Method2:**"
      ],
      "metadata": {
        "id": "GbadQAJhnfUW"
      }
    },
    {
      "cell_type": "code",
      "source": [
        "from sklearn.experimental import enable_iterative_imputer\n",
        "from sklearn.impute import IterativeImputer\n",
        "from sklearn.linear_model import LinearRegression"
      ],
      "metadata": {
        "id": "pNsPbqNFpN1e"
      },
      "execution_count": 200,
      "outputs": []
    },
    {
      "cell_type": "code",
      "source": [
        "log_reg = LinearRegression()\n",
        "imp = IterativeImputer(estimator=log_reg,missing_values=np.nan, max_iter=10, verbose=2, imputation_order='roman',random_state=0)\n",
        "df=imp.fit_transform(df_AGE)"
      ],
      "metadata": {
        "colab": {
          "base_uri": "https://localhost:8080/"
        },
        "id": "8CqeXCikpTRz",
        "outputId": "780417e2-c175-41e5-f8f1-cd7e9cd4600d"
      },
      "execution_count": 201,
      "outputs": [
        {
          "output_type": "stream",
          "name": "stdout",
          "text": [
            "[IterativeImputer] Completing matrix with shape (55394, 5)\n",
            "[IterativeImputer] Ending imputation round 1/10, elapsed time 0.12\n",
            "[IterativeImputer] Change: 0.0, scaled tolerance: 0.001 \n",
            "[IterativeImputer] Early stopping criterion reached.\n"
          ]
        }
      ]
    },
    {
      "cell_type": "code",
      "source": [
        "#checking for missing values\n",
        "df_AGE.isnull().sum()\n",
        "print('\\n Values are filled with MICE Imputer successfully!')"
      ],
      "metadata": {
        "colab": {
          "base_uri": "https://localhost:8080/"
        },
        "id": "7HQVc_5LpTaw",
        "outputId": "8e5b4c8f-1ce7-43d1-d784-5aaae2e965ce"
      },
      "execution_count": 203,
      "outputs": [
        {
          "output_type": "stream",
          "name": "stdout",
          "text": [
            "\n",
            " Values are filled with MICE Imputer successfully!\n"
          ]
        }
      ]
    },
    {
      "cell_type": "markdown",
      "source": [
        "**References:**\n",
        "\n",
        "https://towardsdatascience.com/feature-engineering-in-python-part-i-the-most-powerful-way-of-dealing-with-data-8e2447e7c69e\n",
        "\n",
        "https://towardsdatascience.com/data-cleaning-with-python-and-pandas-detecting-missing-values-3e9c6ebcf78b\n",
        "\n",
        "https://towardsdatascience.com/how-to-identify-the-right-independent-variables-for-machine-learning-supervised-algorithms-439986562d32\n",
        "\n",
        "https://towardsdatascience.com/regression-or-classification-linear-or-logistic-f093e8757b9c\n",
        "\n",
        "https://towardsdatascience.com/understanding-boxplots-5e2df7bcbd51\n",
        "\n",
        "https://towardsdatascience.com/3-essential-ways-to-calculate-feature-importance-in-python-2f9149592155\n",
        "\n",
        "https://towardsdatascience.com/chi-square-test-for-feature-selection-in-machine-learning-206b1f0b8223\n",
        "\n",
        "https://www.analyticsvidhya.com/blog/2021/05/feature-engineering-how-to-detect-and-remove-outliers-with-python-code/"
      ],
      "metadata": {
        "id": "xCTHq5LcAMVi"
      }
    },
    {
      "cell_type": "markdown",
      "source": [
        "**Conclusion:**\n",
        "\n",
        "Build a predictive model using Logistic regression, Random Forest and XGBoost to predict whether a patient has lung cancer based on a set of risk factors. Plotted histograms for distributions of all features. Plotted boxplots to observe outliers in the dataset. Computed p-values for all the independent variables is greater than 0.05, the relationship is statistically insignificant. As per the correlation matrix, no multicollinearity observed in the model. Hence, all predictor variables are independent of all other predictor variables. Calculated F score, confusion matrix to find accuracy of models on a given dataset."
      ],
      "metadata": {
        "id": "QI4E42-r02BK"
      }
    }
  ]
}